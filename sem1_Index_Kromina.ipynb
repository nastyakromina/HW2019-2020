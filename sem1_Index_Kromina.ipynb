{
  "nbformat": 4,
  "nbformat_minor": 0,
  "metadata": {
    "kernelspec": {
      "display_name": "Python 3",
      "language": "python",
      "name": "python3"
    },
    "language_info": {
      "codemirror_mode": {
        "name": "ipython",
        "version": 3
      },
      "file_extension": ".py",
      "mimetype": "text/x-python",
      "name": "python",
      "nbconvert_exporter": "python",
      "pygments_lexer": "ipython3",
      "version": "3.6.8"
    },
    "colab": {
      "name": "sem1_Index_Kromina.ipynb",
      "version": "0.3.2",
      "provenance": [],
      "collapsed_sections": []
    }
  },
  "cells": [
    {
      "cell_type": "markdown",
      "metadata": {
        "id": "O-liUvrpoLeW",
        "colab_type": "text"
      },
      "source": [
        "## Семинар 1 Индекс\n",
        "\n",
        "## Intro"
      ]
    },
    {
      "cell_type": "markdown",
      "metadata": {
        "id": "lb9oru6loLfI",
        "colab_type": "text"
      },
      "source": [
        "##  Индекс \n",
        "\n",
        "Сам по себе индекс - это просто формат хранения данных, он не может осуществлять поиск. Для этого необходимо добавить к нему определенную метрику. Это может быть что-то простое типа булева поиска, а может быть что-то более специфическое или кастомное под задачу.\n",
        "\n",
        "Давайте посмотрим, что полезного можно вытащить из самого индекса.    \n",
        "По сути, индекс - это информация о частоте встречаемости слова в каждом документе.   \n",
        "Из этого можно понять, например:\n",
        "1. какое слово является самым часто употребимым / редким\n",
        "2. какие слова встречаются всегда вместе - так можно парсить твиттер, fb, форумы и отлавливать новые устойчивые выражения в речи\n",
        "3. как эти документы кластеризуются по N тематикам согласно словам, которые в них упоминаются "
      ]
    },
    {
      "cell_type": "markdown",
      "metadata": {
        "id": "FmclTVBzoLfJ",
        "colab_type": "text"
      },
      "source": [
        "## __Задача__: \n",
        "\n",
        "**Data:** Коллекция субтитров сезонов Друзьей. Одна серия - один документ.\n",
        "\n",
        "**To do:** Постройте небольшой модуль поискового движка, который сможет осуществлять поиск по коллекции документов.\n",
        "На входе запрос и проиндексированная коллекция (в том виде, как посчитаете нужным), на выходе отсортированный по релевантности с запросом список документов коллекции. \n",
        "\n",
        "Релизуйте:\n",
        "    - функцию препроцессинга данных\n",
        "    - функцию индексирования данных\n",
        "    - функцию метрики релевантности \n",
        "    - собственно, функцию поиска\n",
        "\n",
        "[download_friends_corpus](https://yadi.sk/d/yVO1QV98CDibpw)"
      ]
    },
    {
      "cell_type": "markdown",
      "metadata": {
        "id": "QZF_nD-eoLfL",
        "colab_type": "text"
      },
      "source": [
        "Напоминание про defaultdict: \n",
        "> В качестве multiple values словаря рекомендую использовать ``` collections.defaultdict ```                          \n",
        "> Так можно избежать конструкции ``` dict.setdefault(key, default=None) ```"
      ]
    },
    {
      "cell_type": "code",
      "metadata": {
        "id": "U2FZVHsgoLfN",
        "colab_type": "code",
        "colab": {}
      },
      "source": [
        "### _check : в коллекции должно быть около 165 файлов"
      ],
      "execution_count": 0,
      "outputs": []
    },
    {
      "cell_type": "code",
      "metadata": {
        "id": "BbXnDTTfvAhk",
        "colab_type": "code",
        "outputId": "9fc65294-aa91-43a8-f1a8-04cfff67973a",
        "colab": {
          "base_uri": "https://localhost:8080/",
          "height": 228
        }
      },
      "source": [
        "pip install pymorphy2"
      ],
      "execution_count": 1,
      "outputs": [
        {
          "output_type": "stream",
          "text": [
            "Collecting pymorphy2\n",
            "\u001b[?25l  Downloading https://files.pythonhosted.org/packages/a3/33/fff9675c68b5f6c63ec8c6e6ff57827dda28a1fa5b2c2d727dffff92dd47/pymorphy2-0.8-py2.py3-none-any.whl (46kB)\n",
            "\u001b[K     |████████████████████████████████| 51kB 2.0MB/s \n",
            "\u001b[?25hCollecting dawg-python>=0.7 (from pymorphy2)\n",
            "  Downloading https://files.pythonhosted.org/packages/6a/84/ff1ce2071d4c650ec85745766c0047ccc3b5036f1d03559fd46bb38b5eeb/DAWG_Python-0.7.2-py2.py3-none-any.whl\n",
            "Requirement already satisfied: docopt>=0.6 in /usr/local/lib/python3.6/dist-packages (from pymorphy2) (0.6.2)\n",
            "Collecting pymorphy2-dicts<3.0,>=2.4 (from pymorphy2)\n",
            "\u001b[?25l  Downloading https://files.pythonhosted.org/packages/02/51/2465fd4f72328ab50877b54777764d928da8cb15b74e2680fc1bd8cb3173/pymorphy2_dicts-2.4.393442.3710985-py2.py3-none-any.whl (7.1MB)\n",
            "\u001b[K     |████████████████████████████████| 7.1MB 8.0MB/s \n",
            "\u001b[?25hInstalling collected packages: dawg-python, pymorphy2-dicts, pymorphy2\n",
            "Successfully installed dawg-python-0.7.2 pymorphy2-0.8 pymorphy2-dicts-2.4.393442.3710985\n"
          ],
          "name": "stdout"
        }
      ]
    },
    {
      "cell_type": "markdown",
      "metadata": {
        "id": "DhT_xJ8UoLfS",
        "colab_type": "text"
      },
      "source": [
        "С помощью обратного индекса посчитайте:  \n",
        "\n",
        "\n",
        "a) какое слово является самым частотным\n",
        "\n",
        "b) какое самым редким\n",
        "\n",
        "c) какой набор слов есть во всех документах коллекции\n",
        "\n",
        "d) какой сезон был самым популярным у Чендлера? у Моники?\n",
        "\n",
        "e) кто из главных героев статистически самый популярный? \n"
      ]
    },
    {
      "cell_type": "code",
      "metadata": {
        "id": "wvJ_WDaPN60q",
        "colab_type": "code",
        "colab": {}
      },
      "source": [
        "import os\n",
        "import re\n",
        "import pymorphy2\n",
        "morph = pymorphy2.MorphAnalyzer()"
      ],
      "execution_count": 0,
      "outputs": []
    },
    {
      "cell_type": "code",
      "metadata": {
        "id": "Z9UDsJRgyZpZ",
        "colab_type": "code",
        "outputId": "3f92cae8-8f96-45c9-ab2d-6535c16d36cd",
        "colab": {
          "base_uri": "https://localhost:8080/",
          "height": 124
        }
      },
      "source": [
        "from google.colab import drive\n",
        "drive.mount('/content/gdrive')"
      ],
      "execution_count": 3,
      "outputs": [
        {
          "output_type": "stream",
          "text": [
            "Go to this URL in a browser: https://accounts.google.com/o/oauth2/auth?client_id=947318989803-6bn6qk8qdgf4n4g3pfee6491hc0brc4i.apps.googleusercontent.com&redirect_uri=urn%3Aietf%3Awg%3Aoauth%3A2.0%3Aoob&scope=email%20https%3A%2F%2Fwww.googleapis.com%2Fauth%2Fdocs.test%20https%3A%2F%2Fwww.googleapis.com%2Fauth%2Fdrive%20https%3A%2F%2Fwww.googleapis.com%2Fauth%2Fdrive.photos.readonly%20https%3A%2F%2Fwww.googleapis.com%2Fauth%2Fpeopleapi.readonly&response_type=code\n",
            "\n",
            "Enter your authorization code:\n",
            "··········\n",
            "Mounted at /content/gdrive\n"
          ],
          "name": "stdout"
        }
      ]
    },
    {
      "cell_type": "code",
      "metadata": {
        "id": "YMkxd7GFwUJb",
        "colab_type": "code",
        "colab": {}
      },
      "source": [
        "os.chdir('gdrive/My Drive/Colab Notebooks/friends')"
      ],
      "execution_count": 0,
      "outputs": []
    },
    {
      "cell_type": "code",
      "metadata": {
        "id": "eEw_ukxnx_ig",
        "colab_type": "code",
        "outputId": "729df952-a22c-460c-f7ea-8ddb4cf27967",
        "colab": {
          "base_uri": "https://localhost:8080/",
          "height": 139
        }
      },
      "source": [
        "for file in os.listdir(os.getcwd()):\n",
        "  print(file)"
      ],
      "execution_count": 5,
      "outputs": [
        {
          "output_type": "stream",
          "text": [
            "Friends - season 3\n",
            "Friends - season 7\n",
            "Friends - season 1\n",
            "Friends - season 5\n",
            "Friends - season 2\n",
            "Friends - season 6\n",
            "Friends - season 4\n"
          ],
          "name": "stdout"
        }
      ]
    },
    {
      "cell_type": "code",
      "metadata": {
        "id": "v8wiSbbG1tI3",
        "colab_type": "code",
        "outputId": "427c035d-c3f7-40d0-b5c0-90cd330a6dc5",
        "colab": {
          "base_uri": "https://localhost:8080/",
          "height": 35
        }
      },
      "source": [
        "top = os.getcwd()\n",
        "top"
      ],
      "execution_count": 6,
      "outputs": [
        {
          "output_type": "execute_result",
          "data": {
            "text/plain": [
              "'/content/gdrive/My Drive/Colab Notebooks/friends'"
            ]
          },
          "metadata": {
            "tags": []
          },
          "execution_count": 6
        }
      ]
    },
    {
      "cell_type": "code",
      "metadata": {
        "id": "oPc0SWvq9ZJR",
        "colab_type": "code",
        "colab": {}
      },
      "source": [
        "folder = []\n",
        "for i in os.walk(top):\n",
        "  folder.append(i)"
      ],
      "execution_count": 0,
      "outputs": []
    },
    {
      "cell_type": "code",
      "metadata": {
        "id": "vvu7Hty1xe-7",
        "colab_type": "code",
        "colab": {}
      },
      "source": [
        "allTexts = []\n",
        "allNames = []\n",
        "for address, dirs, files in folder:\n",
        "  for file in files:\n",
        "    allNames.append(file)\n",
        "    with open(address+'/'+file, 'r') as f:\n",
        "      text = f.read()\n",
        "      allTexts.append(text)"
      ],
      "execution_count": 0,
      "outputs": []
    },
    {
      "cell_type": "code",
      "metadata": {
        "id": "amOsbrTZB4O_",
        "colab_type": "code",
        "outputId": "50b112b1-10eb-4726-c02b-6d00ab7c737a",
        "colab": {
          "base_uri": "https://localhost:8080/",
          "height": 35
        }
      },
      "source": [
        "len(allTexts)"
      ],
      "execution_count": 28,
      "outputs": [
        {
          "output_type": "execute_result",
          "data": {
            "text/plain": [
              "165"
            ]
          },
          "metadata": {
            "tags": []
          },
          "execution_count": 28
        }
      ]
    },
    {
      "cell_type": "code",
      "metadata": {
        "id": "9yY0nM6ZS6wp",
        "colab_type": "code",
        "colab": {}
      },
      "source": [
        "allWordsAllTexts = []\n",
        "for text in allTexts:\n",
        "  allWordsInOneText = []\n",
        "  if text != \"\":\n",
        "    for word in text.split():\n",
        "      word = re.sub('[.,-;:?!@#$%^&()_+=—\\ufeff–\"…«»>wwwtvsubtitlesnet]', '', word).lower()\n",
        "      if word != \"\":\n",
        "        p = morph.parse(word)[0]\n",
        "        if p not in allWordsInOneText:\n",
        "          allWordsInOneText.append(p.normal_form)\n",
        "    allWordsAllTexts.append(allWordsInOneText)"
      ],
      "execution_count": 0,
      "outputs": []
    },
    {
      "cell_type": "code",
      "metadata": {
        "id": "1M0iYVFX0-LC",
        "colab_type": "code",
        "colab": {}
      },
      "source": [
        "from sklearn.feature_extraction.text import CountVectorizer\n",
        "import numpy as np"
      ],
      "execution_count": 0,
      "outputs": []
    },
    {
      "cell_type": "code",
      "metadata": {
        "id": "0O5wDlyb2JgK",
        "colab_type": "code",
        "colab": {}
      },
      "source": [
        "vectorizer = CountVectorizer()"
      ],
      "execution_count": 0,
      "outputs": []
    },
    {
      "cell_type": "code",
      "metadata": {
        "id": "Bpe8tAIe5Mmf",
        "colab_type": "code",
        "colab": {}
      },
      "source": [
        "arrayString = []\n",
        "for text in allWordsAllTexts:\n",
        "  s = ' '.join(text)\n",
        "  arrayString.append(s)"
      ],
      "execution_count": 0,
      "outputs": []
    },
    {
      "cell_type": "code",
      "metadata": {
        "id": "njhZoXmY2M-5",
        "colab_type": "code",
        "colab": {}
      },
      "source": [
        "X = vectorizer.fit_transform(arrayString)"
      ],
      "execution_count": 0,
      "outputs": []
    },
    {
      "cell_type": "code",
      "metadata": {
        "id": "m_Z-el4X24vV",
        "colab_type": "code",
        "colab": {}
      },
      "source": [
        "Matrix = X.toarray()"
      ],
      "execution_count": 0,
      "outputs": []
    },
    {
      "cell_type": "code",
      "metadata": {
        "id": "kXiIVU2wOV0X",
        "colab_type": "code",
        "outputId": "f49bc0c2-d383-47e4-8f38-9e69115b0658",
        "colab": {
          "base_uri": "https://localhost:8080/",
          "height": 139
        }
      },
      "source": [
        "print(Matrix)"
      ],
      "execution_count": 16,
      "outputs": [
        {
          "output_type": "stream",
          "text": [
            "[[0 0 0 ... 0 0 0]\n",
            " [0 0 0 ... 0 0 0]\n",
            " [0 0 0 ... 0 0 0]\n",
            " ...\n",
            " [0 0 0 ... 0 0 0]\n",
            " [0 0 0 ... 0 0 0]\n",
            " [0 0 0 ... 0 0 0]]\n"
          ],
          "name": "stdout"
        }
      ]
    },
    {
      "cell_type": "code",
      "metadata": {
        "id": "E8Vbbr6niv6V",
        "colab_type": "code",
        "colab": {}
      },
      "source": [
        "import pandas as pd\n",
        "df = pd.DataFrame(Matrix, index=allNames, columns=vectorizer.get_feature_names())"
      ],
      "execution_count": 0,
      "outputs": []
    },
    {
      "cell_type": "code",
      "metadata": {
        "id": "YXQxkqhuogkU",
        "colab_type": "code",
        "outputId": "baef8d4d-7cd0-4332-aded-3c586ed51291",
        "colab": {
          "base_uri": "https://localhost:8080/",
          "height": 581
        }
      },
      "source": [
        "df.head()"
      ],
      "execution_count": 18,
      "outputs": [
        {
          "output_type": "execute_result",
          "data": {
            "text/html": [
              "<div>\n",
              "<style scoped>\n",
              "    .dataframe tbody tr th:only-of-type {\n",
              "        vertical-align: middle;\n",
              "    }\n",
              "\n",
              "    .dataframe tbody tr th {\n",
              "        vertical-align: top;\n",
              "    }\n",
              "\n",
              "    .dataframe thead th {\n",
              "        text-align: right;\n",
              "    }\n",
              "</style>\n",
              "<table border=\"1\" class=\"dataframe\">\n",
              "  <thead>\n",
              "    <tr style=\"text-align: right;\">\n",
              "      <th></th>\n",
              "      <th>aa</th>\n",
              "      <th>ad</th>\n",
              "      <th>afr</th>\n",
              "      <th>aga</th>\n",
              "      <th>ahh</th>\n",
              "      <th>ar</th>\n",
              "      <th>ay</th>\n",
              "      <th>aнгел</th>\n",
              "      <th>bay</th>\n",
              "      <th>bhd</th>\n",
              "      <th>bodgo</th>\n",
              "      <th>bojor</th>\n",
              "      <th>car</th>\n",
              "      <th>cat</th>\n",
              "      <th>cd</th>\n",
              "      <th>cdпроигрыватель</th>\n",
              "      <th>ch</th>\n",
              "      <th>cha</th>\n",
              "      <th>chck</th>\n",
              "      <th>ck</th>\n",
              "      <th>co</th>\n",
              "      <th>cy</th>\n",
              "      <th>cамый</th>\n",
              "      <th>cочельник</th>\n",
              "      <th>cтарый</th>\n",
              "      <th>cтоп</th>\n",
              "      <th>da</th>\n",
              "      <th>dac</th>\n",
              "      <th>dayar</th>\n",
              "      <th>dck</th>\n",
              "      <th>dcky</th>\n",
              "      <th>dcory</th>\n",
              "      <th>dd</th>\n",
              "      <th>dh</th>\n",
              "      <th>dings</th>\n",
              "      <th>do</th>\n",
              "      <th>doo</th>\n",
              "      <th>dry</th>\n",
              "      <th>dьzm</th>\n",
              "      <th>echa</th>\n",
              "      <th>...</th>\n",
              "      <th>ямагучить</th>\n",
              "      <th>ямочка</th>\n",
              "      <th>ямс</th>\n",
              "      <th>ямснямнямс</th>\n",
              "      <th>ян</th>\n",
              "      <th>январь</th>\n",
              "      <th>янки</th>\n",
              "      <th>янкиз</th>\n",
              "      <th>янковский</th>\n",
              "      <th>японец</th>\n",
              "      <th>япония</th>\n",
              "      <th>японский</th>\n",
              "      <th>япросить</th>\n",
              "      <th>яркий</th>\n",
              "      <th>ярко</th>\n",
              "      <th>ярковата</th>\n",
              "      <th>ярлык</th>\n",
              "      <th>ярлычок</th>\n",
              "      <th>ярмарка</th>\n",
              "      <th>ярость</th>\n",
              "      <th>ясердцеросс</th>\n",
              "      <th>ясмина</th>\n",
              "      <th>ясно</th>\n",
              "      <th>ясность</th>\n",
              "      <th>ясный</th>\n",
              "      <th>ятебеееотдать</th>\n",
              "      <th>ято</th>\n",
              "      <th>яхта</th>\n",
              "      <th>ящерица</th>\n",
              "      <th>ящик</th>\n",
              "      <th>ящичек</th>\n",
              "      <th>ёй</th>\n",
              "      <th>ёкнуть</th>\n",
              "      <th>ёлка</th>\n",
              "      <th>ёлочный</th>\n",
              "      <th>ёпэрэсотэ</th>\n",
              "      <th>ёрл</th>\n",
              "      <th>ёрш</th>\n",
              "      <th>ёршик</th>\n",
              "      <th>ёще</th>\n",
              "    </tr>\n",
              "  </thead>\n",
              "  <tbody>\n",
              "    <tr>\n",
              "      <th>Friends - 3x05 - The One With Frank Jr..ru.txt</th>\n",
              "      <td>0</td>\n",
              "      <td>0</td>\n",
              "      <td>0</td>\n",
              "      <td>0</td>\n",
              "      <td>0</td>\n",
              "      <td>0</td>\n",
              "      <td>0</td>\n",
              "      <td>0</td>\n",
              "      <td>0</td>\n",
              "      <td>0</td>\n",
              "      <td>0</td>\n",
              "      <td>0</td>\n",
              "      <td>0</td>\n",
              "      <td>0</td>\n",
              "      <td>0</td>\n",
              "      <td>0</td>\n",
              "      <td>0</td>\n",
              "      <td>0</td>\n",
              "      <td>0</td>\n",
              "      <td>0</td>\n",
              "      <td>0</td>\n",
              "      <td>0</td>\n",
              "      <td>0</td>\n",
              "      <td>0</td>\n",
              "      <td>0</td>\n",
              "      <td>0</td>\n",
              "      <td>1</td>\n",
              "      <td>0</td>\n",
              "      <td>0</td>\n",
              "      <td>0</td>\n",
              "      <td>0</td>\n",
              "      <td>0</td>\n",
              "      <td>0</td>\n",
              "      <td>0</td>\n",
              "      <td>0</td>\n",
              "      <td>0</td>\n",
              "      <td>0</td>\n",
              "      <td>0</td>\n",
              "      <td>0</td>\n",
              "      <td>0</td>\n",
              "      <td>...</td>\n",
              "      <td>0</td>\n",
              "      <td>0</td>\n",
              "      <td>0</td>\n",
              "      <td>0</td>\n",
              "      <td>0</td>\n",
              "      <td>0</td>\n",
              "      <td>0</td>\n",
              "      <td>0</td>\n",
              "      <td>0</td>\n",
              "      <td>0</td>\n",
              "      <td>0</td>\n",
              "      <td>0</td>\n",
              "      <td>0</td>\n",
              "      <td>0</td>\n",
              "      <td>0</td>\n",
              "      <td>0</td>\n",
              "      <td>0</td>\n",
              "      <td>0</td>\n",
              "      <td>0</td>\n",
              "      <td>0</td>\n",
              "      <td>0</td>\n",
              "      <td>1</td>\n",
              "      <td>2</td>\n",
              "      <td>0</td>\n",
              "      <td>0</td>\n",
              "      <td>0</td>\n",
              "      <td>0</td>\n",
              "      <td>0</td>\n",
              "      <td>0</td>\n",
              "      <td>1</td>\n",
              "      <td>0</td>\n",
              "      <td>0</td>\n",
              "      <td>0</td>\n",
              "      <td>0</td>\n",
              "      <td>0</td>\n",
              "      <td>0</td>\n",
              "      <td>0</td>\n",
              "      <td>0</td>\n",
              "      <td>0</td>\n",
              "      <td>0</td>\n",
              "    </tr>\n",
              "    <tr>\n",
              "      <th>Friends - 3x03 - The One With The Jam.ru.txt</th>\n",
              "      <td>0</td>\n",
              "      <td>0</td>\n",
              "      <td>0</td>\n",
              "      <td>0</td>\n",
              "      <td>0</td>\n",
              "      <td>0</td>\n",
              "      <td>0</td>\n",
              "      <td>0</td>\n",
              "      <td>0</td>\n",
              "      <td>0</td>\n",
              "      <td>0</td>\n",
              "      <td>0</td>\n",
              "      <td>0</td>\n",
              "      <td>0</td>\n",
              "      <td>0</td>\n",
              "      <td>0</td>\n",
              "      <td>0</td>\n",
              "      <td>0</td>\n",
              "      <td>0</td>\n",
              "      <td>0</td>\n",
              "      <td>0</td>\n",
              "      <td>0</td>\n",
              "      <td>0</td>\n",
              "      <td>0</td>\n",
              "      <td>0</td>\n",
              "      <td>0</td>\n",
              "      <td>1</td>\n",
              "      <td>0</td>\n",
              "      <td>0</td>\n",
              "      <td>0</td>\n",
              "      <td>0</td>\n",
              "      <td>0</td>\n",
              "      <td>0</td>\n",
              "      <td>0</td>\n",
              "      <td>0</td>\n",
              "      <td>0</td>\n",
              "      <td>0</td>\n",
              "      <td>0</td>\n",
              "      <td>0</td>\n",
              "      <td>0</td>\n",
              "      <td>...</td>\n",
              "      <td>0</td>\n",
              "      <td>0</td>\n",
              "      <td>0</td>\n",
              "      <td>0</td>\n",
              "      <td>0</td>\n",
              "      <td>0</td>\n",
              "      <td>0</td>\n",
              "      <td>0</td>\n",
              "      <td>0</td>\n",
              "      <td>0</td>\n",
              "      <td>0</td>\n",
              "      <td>0</td>\n",
              "      <td>0</td>\n",
              "      <td>0</td>\n",
              "      <td>0</td>\n",
              "      <td>0</td>\n",
              "      <td>0</td>\n",
              "      <td>0</td>\n",
              "      <td>0</td>\n",
              "      <td>0</td>\n",
              "      <td>0</td>\n",
              "      <td>0</td>\n",
              "      <td>1</td>\n",
              "      <td>0</td>\n",
              "      <td>0</td>\n",
              "      <td>0</td>\n",
              "      <td>0</td>\n",
              "      <td>0</td>\n",
              "      <td>0</td>\n",
              "      <td>0</td>\n",
              "      <td>0</td>\n",
              "      <td>0</td>\n",
              "      <td>0</td>\n",
              "      <td>0</td>\n",
              "      <td>0</td>\n",
              "      <td>0</td>\n",
              "      <td>0</td>\n",
              "      <td>0</td>\n",
              "      <td>0</td>\n",
              "      <td>0</td>\n",
              "    </tr>\n",
              "    <tr>\n",
              "      <th>Friends - 3x02 - The One Where No One's Ready.ru.txt</th>\n",
              "      <td>0</td>\n",
              "      <td>0</td>\n",
              "      <td>0</td>\n",
              "      <td>0</td>\n",
              "      <td>0</td>\n",
              "      <td>0</td>\n",
              "      <td>0</td>\n",
              "      <td>0</td>\n",
              "      <td>0</td>\n",
              "      <td>0</td>\n",
              "      <td>0</td>\n",
              "      <td>0</td>\n",
              "      <td>0</td>\n",
              "      <td>0</td>\n",
              "      <td>0</td>\n",
              "      <td>0</td>\n",
              "      <td>0</td>\n",
              "      <td>0</td>\n",
              "      <td>0</td>\n",
              "      <td>0</td>\n",
              "      <td>0</td>\n",
              "      <td>0</td>\n",
              "      <td>0</td>\n",
              "      <td>0</td>\n",
              "      <td>0</td>\n",
              "      <td>0</td>\n",
              "      <td>1</td>\n",
              "      <td>0</td>\n",
              "      <td>0</td>\n",
              "      <td>0</td>\n",
              "      <td>0</td>\n",
              "      <td>0</td>\n",
              "      <td>0</td>\n",
              "      <td>0</td>\n",
              "      <td>0</td>\n",
              "      <td>0</td>\n",
              "      <td>0</td>\n",
              "      <td>0</td>\n",
              "      <td>0</td>\n",
              "      <td>0</td>\n",
              "      <td>...</td>\n",
              "      <td>0</td>\n",
              "      <td>0</td>\n",
              "      <td>0</td>\n",
              "      <td>0</td>\n",
              "      <td>0</td>\n",
              "      <td>0</td>\n",
              "      <td>0</td>\n",
              "      <td>0</td>\n",
              "      <td>0</td>\n",
              "      <td>0</td>\n",
              "      <td>0</td>\n",
              "      <td>0</td>\n",
              "      <td>0</td>\n",
              "      <td>0</td>\n",
              "      <td>0</td>\n",
              "      <td>0</td>\n",
              "      <td>0</td>\n",
              "      <td>0</td>\n",
              "      <td>0</td>\n",
              "      <td>0</td>\n",
              "      <td>0</td>\n",
              "      <td>0</td>\n",
              "      <td>4</td>\n",
              "      <td>0</td>\n",
              "      <td>0</td>\n",
              "      <td>0</td>\n",
              "      <td>0</td>\n",
              "      <td>0</td>\n",
              "      <td>0</td>\n",
              "      <td>0</td>\n",
              "      <td>0</td>\n",
              "      <td>0</td>\n",
              "      <td>0</td>\n",
              "      <td>0</td>\n",
              "      <td>0</td>\n",
              "      <td>0</td>\n",
              "      <td>0</td>\n",
              "      <td>0</td>\n",
              "      <td>0</td>\n",
              "      <td>0</td>\n",
              "    </tr>\n",
              "    <tr>\n",
              "      <th>Friends - 3x01 - The One With The Princess Leia Fantasy.ru.txt</th>\n",
              "      <td>0</td>\n",
              "      <td>0</td>\n",
              "      <td>0</td>\n",
              "      <td>0</td>\n",
              "      <td>0</td>\n",
              "      <td>0</td>\n",
              "      <td>1</td>\n",
              "      <td>0</td>\n",
              "      <td>0</td>\n",
              "      <td>0</td>\n",
              "      <td>0</td>\n",
              "      <td>0</td>\n",
              "      <td>0</td>\n",
              "      <td>0</td>\n",
              "      <td>0</td>\n",
              "      <td>0</td>\n",
              "      <td>0</td>\n",
              "      <td>0</td>\n",
              "      <td>0</td>\n",
              "      <td>0</td>\n",
              "      <td>0</td>\n",
              "      <td>0</td>\n",
              "      <td>0</td>\n",
              "      <td>0</td>\n",
              "      <td>0</td>\n",
              "      <td>0</td>\n",
              "      <td>1</td>\n",
              "      <td>0</td>\n",
              "      <td>0</td>\n",
              "      <td>0</td>\n",
              "      <td>0</td>\n",
              "      <td>0</td>\n",
              "      <td>0</td>\n",
              "      <td>0</td>\n",
              "      <td>0</td>\n",
              "      <td>0</td>\n",
              "      <td>0</td>\n",
              "      <td>0</td>\n",
              "      <td>0</td>\n",
              "      <td>0</td>\n",
              "      <td>...</td>\n",
              "      <td>0</td>\n",
              "      <td>0</td>\n",
              "      <td>0</td>\n",
              "      <td>0</td>\n",
              "      <td>0</td>\n",
              "      <td>0</td>\n",
              "      <td>0</td>\n",
              "      <td>0</td>\n",
              "      <td>0</td>\n",
              "      <td>0</td>\n",
              "      <td>0</td>\n",
              "      <td>0</td>\n",
              "      <td>0</td>\n",
              "      <td>0</td>\n",
              "      <td>0</td>\n",
              "      <td>0</td>\n",
              "      <td>0</td>\n",
              "      <td>0</td>\n",
              "      <td>0</td>\n",
              "      <td>0</td>\n",
              "      <td>0</td>\n",
              "      <td>0</td>\n",
              "      <td>2</td>\n",
              "      <td>0</td>\n",
              "      <td>0</td>\n",
              "      <td>0</td>\n",
              "      <td>0</td>\n",
              "      <td>0</td>\n",
              "      <td>0</td>\n",
              "      <td>0</td>\n",
              "      <td>0</td>\n",
              "      <td>0</td>\n",
              "      <td>0</td>\n",
              "      <td>0</td>\n",
              "      <td>0</td>\n",
              "      <td>0</td>\n",
              "      <td>0</td>\n",
              "      <td>0</td>\n",
              "      <td>0</td>\n",
              "      <td>0</td>\n",
              "    </tr>\n",
              "    <tr>\n",
              "      <th>Friends - 3x04 - The One With The Metaphorical Tunnel.ru.txt</th>\n",
              "      <td>0</td>\n",
              "      <td>0</td>\n",
              "      <td>0</td>\n",
              "      <td>0</td>\n",
              "      <td>0</td>\n",
              "      <td>0</td>\n",
              "      <td>0</td>\n",
              "      <td>0</td>\n",
              "      <td>0</td>\n",
              "      <td>0</td>\n",
              "      <td>0</td>\n",
              "      <td>0</td>\n",
              "      <td>0</td>\n",
              "      <td>0</td>\n",
              "      <td>0</td>\n",
              "      <td>0</td>\n",
              "      <td>0</td>\n",
              "      <td>0</td>\n",
              "      <td>0</td>\n",
              "      <td>0</td>\n",
              "      <td>0</td>\n",
              "      <td>0</td>\n",
              "      <td>0</td>\n",
              "      <td>0</td>\n",
              "      <td>0</td>\n",
              "      <td>0</td>\n",
              "      <td>1</td>\n",
              "      <td>0</td>\n",
              "      <td>0</td>\n",
              "      <td>0</td>\n",
              "      <td>0</td>\n",
              "      <td>0</td>\n",
              "      <td>0</td>\n",
              "      <td>0</td>\n",
              "      <td>0</td>\n",
              "      <td>0</td>\n",
              "      <td>0</td>\n",
              "      <td>0</td>\n",
              "      <td>0</td>\n",
              "      <td>0</td>\n",
              "      <td>...</td>\n",
              "      <td>0</td>\n",
              "      <td>0</td>\n",
              "      <td>0</td>\n",
              "      <td>0</td>\n",
              "      <td>0</td>\n",
              "      <td>0</td>\n",
              "      <td>0</td>\n",
              "      <td>0</td>\n",
              "      <td>0</td>\n",
              "      <td>0</td>\n",
              "      <td>0</td>\n",
              "      <td>0</td>\n",
              "      <td>0</td>\n",
              "      <td>0</td>\n",
              "      <td>0</td>\n",
              "      <td>0</td>\n",
              "      <td>0</td>\n",
              "      <td>0</td>\n",
              "      <td>0</td>\n",
              "      <td>0</td>\n",
              "      <td>0</td>\n",
              "      <td>0</td>\n",
              "      <td>2</td>\n",
              "      <td>0</td>\n",
              "      <td>0</td>\n",
              "      <td>0</td>\n",
              "      <td>0</td>\n",
              "      <td>0</td>\n",
              "      <td>0</td>\n",
              "      <td>0</td>\n",
              "      <td>0</td>\n",
              "      <td>0</td>\n",
              "      <td>0</td>\n",
              "      <td>0</td>\n",
              "      <td>0</td>\n",
              "      <td>0</td>\n",
              "      <td>0</td>\n",
              "      <td>0</td>\n",
              "      <td>0</td>\n",
              "      <td>0</td>\n",
              "    </tr>\n",
              "  </tbody>\n",
              "</table>\n",
              "<p>5 rows × 15412 columns</p>\n",
              "</div>"
            ],
            "text/plain": [
              "                                                    aa  ad  ...  ёршик  ёще\n",
              "Friends - 3x05 - The One With Frank Jr..ru.txt       0   0  ...      0    0\n",
              "Friends - 3x03 - The One With The Jam.ru.txt         0   0  ...      0    0\n",
              "Friends - 3x02 - The One Where No One's Ready.r...   0   0  ...      0    0\n",
              "Friends - 3x01 - The One With The Princess Leia...   0   0  ...      0    0\n",
              "Friends - 3x04 - The One With The Metaphorical ...   0   0  ...      0    0\n",
              "\n",
              "[5 rows x 15412 columns]"
            ]
          },
          "metadata": {
            "tags": []
          },
          "execution_count": 18
        }
      ]
    },
    {
      "cell_type": "markdown",
      "metadata": {
        "id": "6c7b5UjfqAEL",
        "colab_type": "text"
      },
      "source": [
        "**Поисковик**"
      ]
    },
    {
      "cell_type": "code",
      "metadata": {
        "id": "Rey0S7DcpidY",
        "colab_type": "code",
        "colab": {}
      },
      "source": [
        "from collections import Counter\n",
        "import operator\n",
        "import math"
      ],
      "execution_count": 0,
      "outputs": []
    },
    {
      "cell_type": "code",
      "metadata": {
        "id": "z4gYENOYqUti",
        "colab_type": "code",
        "colab": {}
      },
      "source": [
        "def tokenize(doc):\n",
        "  allWordsInOneText = []\n",
        "  text = doc.split()\n",
        "  for word in text:\n",
        "    word = re.sub('[.,-;:?!@#$%^&()_+=—\\ufeff–\"…«»>wwwtvsubtitlesnet]', '', word).lower()\n",
        "    if word != \"\":\n",
        "      p = morph.parse(word)[0]\n",
        "      allWordsInOneText.append(p.normal_form)\n",
        "  return allWordsInOneText"
      ],
      "execution_count": 0,
      "outputs": []
    },
    {
      "cell_type": "code",
      "metadata": {
        "id": "YvSD5uXAr_Dg",
        "colab_type": "code",
        "colab": {}
      },
      "source": [
        "def build_terms(corpus):\n",
        "    terms = {}\n",
        "    current_index = 0\n",
        "    for doc in corpus:\n",
        "        for word in tokenize(doc):\n",
        "            if word not in terms:\n",
        "                terms[word] = current_index\n",
        "                current_index += 1\n",
        "    return terms"
      ],
      "execution_count": 0,
      "outputs": []
    },
    {
      "cell_type": "code",
      "metadata": {
        "id": "F7iQQizdsKhT",
        "colab_type": "code",
        "colab": {}
      },
      "source": [
        "def tf(document, terms):\n",
        "    words = tokenize(document)\n",
        "    total_words = len(words)\n",
        "    doc_counter = Counter(words)\n",
        "    for word in doc_counter:\n",
        "        doc_counter[word] /= total_words\n",
        "    tfs = [0 for _ in range(len(terms))]\n",
        "    for term, index in terms.items():\n",
        "        tfs[index] = doc_counter[term]\n",
        "    return tfs"
      ],
      "execution_count": 0,
      "outputs": []
    },
    {
      "cell_type": "code",
      "metadata": {
        "id": "hm8iOk36sXip",
        "colab_type": "code",
        "colab": {}
      },
      "source": [
        "def _count_docs_with_word(word, docs):\n",
        "    counter = 1\n",
        "    for doc in docs:\n",
        "        if word in doc:\n",
        "            counter += 1\n",
        "    return counter"
      ],
      "execution_count": 0,
      "outputs": []
    },
    {
      "cell_type": "code",
      "metadata": {
        "id": "N4q57mTQsprZ",
        "colab_type": "code",
        "colab": {}
      },
      "source": [
        "# documents - это корпус\n",
        "def idf(documents, terms):\n",
        "    idfs = [0 for _ in range(len(terms))]\n",
        "    total_docs = len(documents)\n",
        "    for word, index in terms.items():\n",
        "        docs_with_word = _count_docs_with_word(word, documents)\n",
        "        idf = 1 + math.log10(total_docs / docs_with_word)\n",
        "        idfs[index] = idf\n",
        "    return idfs"
      ],
      "execution_count": 0,
      "outputs": []
    },
    {
      "cell_type": "code",
      "metadata": {
        "id": "BVKn0PtXsxtJ",
        "colab_type": "code",
        "colab": {}
      },
      "source": [
        "def _merge_td_idf(tf, idf, terms):\n",
        "    return [tf[i] * idf[i] for i in range(len(terms))]\n",
        "\n",
        "\n",
        "def build_tfidf(corpus, document, terms):\n",
        "    doc_tf = tf(document, terms)\n",
        "    doc_idf = idf(corpus, terms)\n",
        "    return _merge_td_idf(doc_tf, doc_idf, terms)\n",
        "\n",
        "\n",
        "def cosine_similarity(vec1, vec2):\n",
        "    def dot_product2(v1, v2):\n",
        "        return sum(map(operator.mul, v1, v2))\n",
        "\n",
        "    def vector_cos5(v1, v2):\n",
        "        prod = dot_product2(v1, v2)\n",
        "        len1 = math.sqrt(dot_product2(v1, v1))\n",
        "        len2 = math.sqrt(dot_product2(v2, v2))\n",
        "        return prod / (len1 * len2)\n",
        "\n",
        "    return vector_cos5(vec1, vec2)"
      ],
      "execution_count": 0,
      "outputs": []
    },
    {
      "cell_type": "code",
      "metadata": {
        "id": "LdVBYZDCtL_l",
        "colab_type": "code",
        "colab": {}
      },
      "source": [
        "tf_idf_total = []\n",
        "corpus = allTexts\n",
        "terms = build_terms(corpus)"
      ],
      "execution_count": 0,
      "outputs": []
    },
    {
      "cell_type": "code",
      "metadata": {
        "id": "LSGkeFRjQEyQ",
        "colab_type": "code",
        "colab": {
          "base_uri": "https://localhost:8080/",
          "height": 35
        },
        "outputId": "55c107ab-ade0-4d64-9742-b3311519356e"
      },
      "source": [
        "len(corpus)"
      ],
      "execution_count": 30,
      "outputs": [
        {
          "output_type": "execute_result",
          "data": {
            "text/plain": [
              "165"
            ]
          },
          "metadata": {
            "tags": []
          },
          "execution_count": 30
        }
      ]
    },
    {
      "cell_type": "code",
      "metadata": {
        "id": "H4EhlNbnviIo",
        "colab_type": "code",
        "colab": {}
      },
      "source": [
        "for document in corpus:\n",
        "  tf_idf_total.append(build_tfidf(corpus, document, terms))"
      ],
      "execution_count": 0,
      "outputs": []
    },
    {
      "cell_type": "code",
      "metadata": {
        "id": "8NnwL5Ztv05V",
        "colab_type": "code",
        "colab": {}
      },
      "source": [
        "query = \"Он подарил мне цветы\""
      ],
      "execution_count": 0,
      "outputs": []
    },
    {
      "cell_type": "code",
      "metadata": {
        "id": "jvV8Z1cQwKic",
        "colab_type": "code",
        "colab": {}
      },
      "source": [
        "results = {}\n",
        "query_tfidf = build_tfidf(corpus, query, terms)\n",
        "for index, document in enumerate(tf_idf_total):\n",
        "  results[index] = cosine_similarity(query_tfidf, document)"
      ],
      "execution_count": 0,
      "outputs": []
    },
    {
      "cell_type": "code",
      "metadata": {
        "id": "47NGONsxNNaW",
        "colab_type": "code",
        "colab": {
          "base_uri": "https://localhost:8080/",
          "height": 1000
        },
        "outputId": "67658190-587a-4d5d-9501-3f73c10f47c2"
      },
      "source": [
        "ld = list(results.items())\n",
        "ld.sort(key=lambda i: i[1], reverse= True)\n",
        "ld"
      ],
      "execution_count": 44,
      "outputs": [
        {
          "output_type": "execute_result",
          "data": {
            "text/plain": [
              "[(13, 0.2752542859743394),\n",
              " (148, 0.24471401179804136),\n",
              " (133, 0.23290323882225525),\n",
              " (7, 0.23290087954364497),\n",
              " (94, 0.22910673441624954),\n",
              " (137, 0.22879058779910527),\n",
              " (1, 0.22125968103179117),\n",
              " (10, 0.21973359393728478),\n",
              " (23, 0.21839336357825587),\n",
              " (46, 0.21734952102205848),\n",
              " (54, 0.2169524068135041),\n",
              " (22, 0.21692765155774393),\n",
              " (37, 0.21689218055271234),\n",
              " (113, 0.2166221741453063),\n",
              " (81, 0.21441365055359124),\n",
              " (68, 0.2138874585331985),\n",
              " (151, 0.2138853573391441),\n",
              " (110, 0.2130222236381641),\n",
              " (8, 0.21277829270285625),\n",
              " (108, 0.21196390891406372),\n",
              " (149, 0.21159810933109938),\n",
              " (163, 0.21144027786533223),\n",
              " (164, 0.21126199475596663),\n",
              " (42, 0.21015920308428204),\n",
              " (150, 0.20964690328532032),\n",
              " (63, 0.20959084004177658),\n",
              " (153, 0.20785210768323883),\n",
              " (135, 0.20774321164955098),\n",
              " (30, 0.20672401103432556),\n",
              " (97, 0.2067183881231493),\n",
              " (160, 0.20593766518551734),\n",
              " (144, 0.20283250185744026),\n",
              " (93, 0.20266241032202806),\n",
              " (100, 0.20254230232391018),\n",
              " (11, 0.20223281636772597),\n",
              " (16, 0.202170786910036),\n",
              " (79, 0.20214861216925797),\n",
              " (80, 0.20202246465475085),\n",
              " (123, 0.20200804367309952),\n",
              " (62, 0.2015135463741925),\n",
              " (158, 0.20114513249551347),\n",
              " (87, 0.19834524089328792),\n",
              " (145, 0.1982636245711368),\n",
              " (147, 0.19800536826794946),\n",
              " (25, 0.19652432076869852),\n",
              " (45, 0.1964509862892956),\n",
              " (95, 0.195140028386694),\n",
              " (143, 0.19496645941377766),\n",
              " (21, 0.19495694414426165),\n",
              " (140, 0.1945237860635073),\n",
              " (2, 0.19449024692889805),\n",
              " (72, 0.19437413833801012),\n",
              " (102, 0.19373581941997997),\n",
              " (129, 0.1937253423069758),\n",
              " (88, 0.19362694692553198),\n",
              " (20, 0.1935850850064967),\n",
              " (27, 0.1932045429409093),\n",
              " (78, 0.19316198311807808),\n",
              " (128, 0.19303620794355944),\n",
              " (6, 0.19282621766140243),\n",
              " (154, 0.19240105962778395),\n",
              " (99, 0.19220135804116967),\n",
              " (9, 0.19140819410751922),\n",
              " (17, 0.19106878248325324),\n",
              " (71, 0.1889167393122808),\n",
              " (26, 0.18857892206858493),\n",
              " (44, 0.1885060007481446),\n",
              " (34, 0.18817451592262546),\n",
              " (114, 0.18794516632090322),\n",
              " (141, 0.18793687233521134),\n",
              " (134, 0.18758919144983738),\n",
              " (120, 0.18751293685528372),\n",
              " (84, 0.18749710650441873),\n",
              " (57, 0.18746643547177377),\n",
              " (66, 0.1873641035257169),\n",
              " (119, 0.18734656281584272),\n",
              " (138, 0.18723364138049442),\n",
              " (103, 0.18696621288176762),\n",
              " (74, 0.18681598145802267),\n",
              " (85, 0.1866870275785982),\n",
              " (70, 0.18639811881687643),\n",
              " (107, 0.18612945376533457),\n",
              " (126, 0.18568011662830453),\n",
              " (91, 0.1855917235840418),\n",
              " (146, 0.18557778980774092),\n",
              " (49, 0.18479134803569297),\n",
              " (159, 0.18468023767934652),\n",
              " (82, 0.18449030005890815),\n",
              " (139, 0.18408986910500527),\n",
              " (55, 0.183591174776932),\n",
              " (109, 0.1835848280578091),\n",
              " (77, 0.1835546874289062),\n",
              " (19, 0.18305696995000736),\n",
              " (106, 0.18282061060733618),\n",
              " (118, 0.18269510070733846),\n",
              " (83, 0.1816350009804349),\n",
              " (41, 0.18142641327540235),\n",
              " (125, 0.1814114048147217),\n",
              " (4, 0.18113977286348099),\n",
              " (75, 0.18105767942911816),\n",
              " (142, 0.18100796242229136),\n",
              " (53, 0.18071169046208638),\n",
              " (136, 0.1805805375373751),\n",
              " (157, 0.18045098801880452),\n",
              " (90, 0.18043401516376306),\n",
              " (105, 0.18002490811633573),\n",
              " (127, 0.1799781767920983),\n",
              " (67, 0.1793775288855586),\n",
              " (162, 0.17863680460068626),\n",
              " (73, 0.17757188611031594),\n",
              " (0, 0.17755224366960104),\n",
              " (121, 0.17732518123835833),\n",
              " (3, 0.17614407058701678),\n",
              " (161, 0.17589219434491),\n",
              " (86, 0.17503726900628466),\n",
              " (104, 0.17496130114491393),\n",
              " (131, 0.17392160257551834),\n",
              " (65, 0.17379678059036144),\n",
              " (48, 0.17354933463927885),\n",
              " (101, 0.17341529402295913),\n",
              " (14, 0.173349987506154),\n",
              " (132, 0.17287812488040719),\n",
              " (36, 0.17178702930431508),\n",
              " (18, 0.1708422692159949),\n",
              " (32, 0.1708142839005509),\n",
              " (15, 0.1693174738784511),\n",
              " (33, 0.16906469092513587),\n",
              " (56, 0.16873151185027102),\n",
              " (76, 0.16864737284437464),\n",
              " (28, 0.16786393427609916),\n",
              " (89, 0.1674673936586328),\n",
              " (64, 0.1670215353389115),\n",
              " (155, 0.1665490030158418),\n",
              " (122, 0.16606253012875674),\n",
              " (58, 0.16593931710643012),\n",
              " (35, 0.1658894983296207),\n",
              " (116, 0.16510669112317822),\n",
              " (117, 0.1649548708124567),\n",
              " (115, 0.16435410281731672),\n",
              " (130, 0.16430169581625179),\n",
              " (60, 0.1642555431159481),\n",
              " (52, 0.16390530829420946),\n",
              " (96, 0.16373300831015858),\n",
              " (112, 0.16372711206805124),\n",
              " (47, 0.16343180688083034),\n",
              " (24, 0.16276896436400165),\n",
              " (5, 0.16148168664855383),\n",
              " (156, 0.1612552917869104),\n",
              " (51, 0.1586240362351954),\n",
              " (124, 0.15768555798555745),\n",
              " (92, 0.1572668712456085),\n",
              " (12, 0.15221554651267194),\n",
              " (40, 0.15007193296928062),\n",
              " (50, 0.14957558770116242),\n",
              " (38, 0.14934133262892996),\n",
              " (59, 0.1479843733147632),\n",
              " (43, 0.1472674789550269),\n",
              " (29, 0.1461302528858065),\n",
              " (111, 0.14477269403892618),\n",
              " (61, 0.1447483189554774),\n",
              " (69, 0.14380213038146095),\n",
              " (39, 0.14089620199556113),\n",
              " (98, 0.13892643512667407),\n",
              " (152, 0.13544418993582963),\n",
              " (31, 0.13182888184974842)]"
            ]
          },
          "metadata": {
            "tags": []
          },
          "execution_count": 44
        }
      ]
    },
    {
      "cell_type": "code",
      "metadata": {
        "id": "nklCWhhRNqD4",
        "colab_type": "code",
        "colab": {
          "base_uri": "https://localhost:8080/",
          "height": 35
        },
        "outputId": "fb4821c1-b2a3-4dea-806f-df1ddeab8798"
      },
      "source": [
        "print('По вашему запросу лучший результат - ' + allNames[ld[0][0]])"
      ],
      "execution_count": 45,
      "outputs": [
        {
          "output_type": "stream",
          "text": [
            "По вашему запросу лучший результат - Friends - 3x08 - The One With The Giant Poking Device.ru.txt\n"
          ],
          "name": "stdout"
        }
      ]
    }
  ]
}