{
 "cells": [
  {
   "cell_type": "markdown",
   "metadata": {
    "colab_type": "text",
    "id": "O-liUvrpoLeW"
   },
   "source": [
    "## Семинар 1 Индекс\n",
    "\n",
    "## Intro"
   ]
  },
  {
   "cell_type": "markdown",
   "metadata": {
    "colab_type": "text",
    "id": "lb9oru6loLfI"
   },
   "source": [
    "##  Индекс \n",
    "\n",
    "Сам по себе индекс - это просто формат хранения данных, он не может осуществлять поиск. Для этого необходимо добавить к нему определенную метрику. Это может быть что-то простое типа булева поиска, а может быть что-то более специфическое или кастомное под задачу.\n",
    "\n",
    "Давайте посмотрим, что полезного можно вытащить из самого индекса.    \n",
    "По сути, индекс - это информация о частоте встречаемости слова в каждом документе.   \n",
    "Из этого можно понять, например:\n",
    "1. какое слово является самым часто употребимым / редким\n",
    "2. какие слова встречаются всегда вместе - так можно парсить твиттер, fb, форумы и отлавливать новые устойчивые выражения в речи\n",
    "3. как эти документы кластеризуются по N тематикам согласно словам, которые в них упоминаются "
   ]
  },
  {
   "cell_type": "markdown",
   "metadata": {
    "colab_type": "text",
    "id": "FmclTVBzoLfJ"
   },
   "source": [
    "## __Задача__: \n",
    "\n",
    "**Data:** Коллекция субтитров сезонов Друзьей. Одна серия - один документ.\n",
    "\n",
    "**To do:** Постройте небольшой модуль поискового движка, который сможет осуществлять поиск по коллекции документов.\n",
    "На входе запрос и проиндексированная коллекция (в том виде, как посчитаете нужным), на выходе отсортированный по релевантности с запросом список документов коллекции. \n",
    "\n",
    "Релизуйте:\n",
    "    - функцию препроцессинга данных\n",
    "    - функцию индексирования данных\n",
    "    - функцию метрики релевантности \n",
    "    - собственно, функцию поиска\n",
    "\n",
    "[download_friends_corpus](https://yadi.sk/d/yVO1QV98CDibpw)"
   ]
  },
  {
   "cell_type": "markdown",
   "metadata": {
    "colab_type": "text",
    "id": "QZF_nD-eoLfL"
   },
   "source": [
    "Напоминание про defaultdict: \n",
    "> В качестве multiple values словаря рекомендую использовать ``` collections.defaultdict ```                          \n",
    "> Так можно избежать конструкции ``` dict.setdefault(key, default=None) ```"
   ]
  },
  {
   "cell_type": "code",
   "execution_count": 0,
   "metadata": {
    "colab": {},
    "colab_type": "code",
    "id": "U2FZVHsgoLfN"
   },
   "outputs": [],
   "source": [
    "### _check : в коллекции должно быть около 165 файлов"
   ]
  },
  {
   "cell_type": "code",
   "execution_count": 1,
   "metadata": {
    "colab": {
     "base_uri": "https://localhost:8080/",
     "height": 228
    },
    "colab_type": "code",
    "id": "BbXnDTTfvAhk",
    "outputId": "9fc65294-aa91-43a8-f1a8-04cfff67973a"
   },
   "outputs": [
    {
     "name": "stdout",
     "output_type": "stream",
     "text": [
      "Collecting pymorphy2\n",
      "  Using cached https://files.pythonhosted.org/packages/a3/33/fff9675c68b5f6c63ec8c6e6ff57827dda28a1fa5b2c2d727dffff92dd47/pymorphy2-0.8-py2.py3-none-any.whl\n",
      "Collecting docopt>=0.6 (from pymorphy2)\n",
      "Collecting pymorphy2-dicts<3.0,>=2.4 (from pymorphy2)\n",
      "  Using cached https://files.pythonhosted.org/packages/02/51/2465fd4f72328ab50877b54777764d928da8cb15b74e2680fc1bd8cb3173/pymorphy2_dicts-2.4.393442.3710985-py2.py3-none-any.whl\n",
      "Collecting dawg-python>=0.7 (from pymorphy2)\n",
      "  Using cached https://files.pythonhosted.org/packages/6a/84/ff1ce2071d4c650ec85745766c0047ccc3b5036f1d03559fd46bb38b5eeb/DAWG_Python-0.7.2-py2.py3-none-any.whl\n",
      "Installing collected packages: docopt, pymorphy2-dicts, dawg-python, pymorphy2\n",
      "Successfully installed dawg-python-0.7.2 docopt-0.6.2 pymorphy2-0.8 pymorphy2-dicts-2.4.393442.3710985\n",
      "Note: you may need to restart the kernel to use updated packages.\n"
     ]
    }
   ],
   "source": [
    "pip install pymorphy2"
   ]
  },
  {
   "cell_type": "markdown",
   "metadata": {
    "colab_type": "text",
    "id": "DhT_xJ8UoLfS"
   },
   "source": [
    "С помощью обратного индекса посчитайте:  \n",
    "\n",
    "\n",
    "a) какое слово является самым частотным\n",
    "\n",
    "b) какое самым редким\n",
    "\n",
    "c) какой набор слов есть во всех документах коллекции\n",
    "\n",
    "d) какой сезон был самым популярным у Чендлера? у Моники?\n",
    "\n",
    "e) кто из главных героев статистически самый популярный? \n"
   ]
  },
  {
   "cell_type": "code",
   "execution_count": 2,
   "metadata": {
    "colab": {},
    "colab_type": "code",
    "id": "wvJ_WDaPN60q"
   },
   "outputs": [],
   "source": [
    "import os\n",
    "import re\n",
    "import pymorphy2\n",
    "morph = pymorphy2.MorphAnalyzer()"
   ]
  },
  {
   "cell_type": "code",
   "execution_count": 7,
   "metadata": {
    "colab": {},
    "colab_type": "code",
    "id": "YMkxd7GFwUJb"
   },
   "outputs": [],
   "source": [
    "os.chdir(\"/Users/Asus/friends\")"
   ]
  },
  {
   "cell_type": "code",
   "execution_count": 13,
   "metadata": {
    "colab": {
     "base_uri": "https://localhost:8080/",
     "height": 139
    },
    "colab_type": "code",
    "id": "eEw_ukxnx_ig",
    "outputId": "729df952-a22c-460c-f7ea-8ddb4cf27967"
   },
   "outputs": [
    {
     "name": "stdout",
     "output_type": "stream",
     "text": [
      "Friends - season 1\n",
      "Friends - season 2\n",
      "Friends - season 3\n",
      "Friends - season 4\n",
      "Friends - season 5\n",
      "Friends - season 6\n",
      "Friends - season 7\n"
     ]
    }
   ],
   "source": [
    "for file in os.listdir(os.getcwd()):\n",
    "    print(file)"
   ]
  },
  {
   "cell_type": "code",
   "execution_count": 14,
   "metadata": {
    "colab": {
     "base_uri": "https://localhost:8080/",
     "height": 35
    },
    "colab_type": "code",
    "id": "v8wiSbbG1tI3",
    "outputId": "427c035d-c3f7-40d0-b5c0-90cd330a6dc5"
   },
   "outputs": [
    {
     "data": {
      "text/plain": [
       "'C:\\\\Users\\\\Asus\\\\friends'"
      ]
     },
     "execution_count": 14,
     "metadata": {},
     "output_type": "execute_result"
    }
   ],
   "source": [
    "top = os.getcwd()\n",
    "top"
   ]
  },
  {
   "cell_type": "code",
   "execution_count": 15,
   "metadata": {
    "colab": {},
    "colab_type": "code",
    "id": "oPc0SWvq9ZJR"
   },
   "outputs": [],
   "source": [
    "folder = []\n",
    "for i in os.walk(top):\n",
    "    folder.append(i)"
   ]
  },
  {
   "cell_type": "code",
   "execution_count": 19,
   "metadata": {
    "colab": {},
    "colab_type": "code",
    "id": "vvu7Hty1xe-7"
   },
   "outputs": [],
   "source": [
    "allTexts = []\n",
    "allNames = []\n",
    "for address, dirs, files in folder:\n",
    "    for file in files:\n",
    "        allNames.append(file)\n",
    "        with open(address+'/'+file, 'r', encoding = 'utf-8') as f:\n",
    "            text = f.read()\n",
    "            allTexts.append(text)"
   ]
  },
  {
   "cell_type": "code",
   "execution_count": 20,
   "metadata": {
    "colab": {
     "base_uri": "https://localhost:8080/",
     "height": 35
    },
    "colab_type": "code",
    "id": "amOsbrTZB4O_",
    "outputId": "50b112b1-10eb-4726-c02b-6d00ab7c737a"
   },
   "outputs": [
    {
     "data": {
      "text/plain": [
       "165"
      ]
     },
     "execution_count": 20,
     "metadata": {},
     "output_type": "execute_result"
    }
   ],
   "source": [
    "len(allTexts)"
   ]
  },
  {
   "cell_type": "code",
   "execution_count": 22,
   "metadata": {
    "colab": {},
    "colab_type": "code",
    "id": "9yY0nM6ZS6wp"
   },
   "outputs": [],
   "source": [
    "allWordsAllTexts = []\n",
    "for text in allTexts:\n",
    "    allWordsInOneText = []\n",
    "    if text != \"\":\n",
    "        for word in text.split():\n",
    "            word = re.sub('[.,-;:?!@#$%^&()_+=—\\ufeff–\"…«»>wwwtvsubtitlesnet]', '', word).lower()\n",
    "            if word != \"\":\n",
    "                p = morph.parse(word)[0]\n",
    "                if p not in allWordsInOneText:\n",
    "                    allWordsInOneText.append(p.normal_form)\n",
    "        allWordsAllTexts.append(allWordsInOneText)"
   ]
  },
  {
   "cell_type": "code",
   "execution_count": 23,
   "metadata": {
    "colab": {},
    "colab_type": "code",
    "id": "1M0iYVFX0-LC"
   },
   "outputs": [],
   "source": [
    "from sklearn.feature_extraction.text import CountVectorizer\n",
    "import numpy as np"
   ]
  },
  {
   "cell_type": "code",
   "execution_count": 24,
   "metadata": {
    "colab": {},
    "colab_type": "code",
    "id": "0O5wDlyb2JgK"
   },
   "outputs": [],
   "source": [
    "vectorizer = CountVectorizer()"
   ]
  },
  {
   "cell_type": "code",
   "execution_count": 25,
   "metadata": {
    "colab": {},
    "colab_type": "code",
    "id": "Bpe8tAIe5Mmf"
   },
   "outputs": [],
   "source": [
    "arrayString = []\n",
    "for text in allWordsAllTexts:\n",
    "    s = ' '.join(text)\n",
    "    arrayString.append(s)"
   ]
  },
  {
   "cell_type": "code",
   "execution_count": 26,
   "metadata": {
    "colab": {},
    "colab_type": "code",
    "id": "njhZoXmY2M-5"
   },
   "outputs": [],
   "source": [
    "X = vectorizer.fit_transform(arrayString)"
   ]
  },
  {
   "cell_type": "code",
   "execution_count": 27,
   "metadata": {
    "colab": {},
    "colab_type": "code",
    "id": "m_Z-el4X24vV"
   },
   "outputs": [],
   "source": [
    "Matrix = X.toarray()"
   ]
  },
  {
   "cell_type": "code",
   "execution_count": 28,
   "metadata": {
    "colab": {
     "base_uri": "https://localhost:8080/",
     "height": 139
    },
    "colab_type": "code",
    "id": "kXiIVU2wOV0X",
    "outputId": "f49bc0c2-d383-47e4-8f38-9e69115b0658"
   },
   "outputs": [
    {
     "name": "stdout",
     "output_type": "stream",
     "text": [
      "[[0 0 0 ... 0 0 0]\n",
      " [0 0 0 ... 0 0 0]\n",
      " [0 0 0 ... 0 0 0]\n",
      " ...\n",
      " [0 0 0 ... 0 0 0]\n",
      " [0 0 0 ... 0 0 0]\n",
      " [0 0 0 ... 0 0 0]]\n"
     ]
    }
   ],
   "source": [
    "print(Matrix)"
   ]
  },
  {
   "cell_type": "code",
   "execution_count": 29,
   "metadata": {
    "colab": {},
    "colab_type": "code",
    "id": "E8Vbbr6niv6V"
   },
   "outputs": [],
   "source": [
    "import pandas as pd\n",
    "df = pd.DataFrame(Matrix, index=allNames, columns=vectorizer.get_feature_names())"
   ]
  },
  {
   "cell_type": "code",
   "execution_count": 30,
   "metadata": {
    "colab": {
     "base_uri": "https://localhost:8080/",
     "height": 581
    },
    "colab_type": "code",
    "id": "YXQxkqhuogkU",
    "outputId": "baef8d4d-7cd0-4332-aded-3c586ed51291"
   },
   "outputs": [
    {
     "data": {
      "text/html": [
       "<div>\n",
       "<style scoped>\n",
       "    .dataframe tbody tr th:only-of-type {\n",
       "        vertical-align: middle;\n",
       "    }\n",
       "\n",
       "    .dataframe tbody tr th {\n",
       "        vertical-align: top;\n",
       "    }\n",
       "\n",
       "    .dataframe thead th {\n",
       "        text-align: right;\n",
       "    }\n",
       "</style>\n",
       "<table border=\"1\" class=\"dataframe\">\n",
       "  <thead>\n",
       "    <tr style=\"text-align: right;\">\n",
       "      <th></th>\n",
       "      <th>aa</th>\n",
       "      <th>ad</th>\n",
       "      <th>afr</th>\n",
       "      <th>aga</th>\n",
       "      <th>ahh</th>\n",
       "      <th>ar</th>\n",
       "      <th>ay</th>\n",
       "      <th>aнгел</th>\n",
       "      <th>bay</th>\n",
       "      <th>bhd</th>\n",
       "      <th>...</th>\n",
       "      <th>ящичек</th>\n",
       "      <th>ёй</th>\n",
       "      <th>ёкнуть</th>\n",
       "      <th>ёлка</th>\n",
       "      <th>ёлочный</th>\n",
       "      <th>ёпэрэсотэ</th>\n",
       "      <th>ёрл</th>\n",
       "      <th>ёрш</th>\n",
       "      <th>ёршик</th>\n",
       "      <th>ёще</th>\n",
       "    </tr>\n",
       "  </thead>\n",
       "  <tbody>\n",
       "    <tr>\n",
       "      <th>Friends - 1x01 - The One Where Monica Gets A Roommate.ru.txt</th>\n",
       "      <td>0</td>\n",
       "      <td>0</td>\n",
       "      <td>0</td>\n",
       "      <td>0</td>\n",
       "      <td>0</td>\n",
       "      <td>0</td>\n",
       "      <td>0</td>\n",
       "      <td>0</td>\n",
       "      <td>0</td>\n",
       "      <td>0</td>\n",
       "      <td>...</td>\n",
       "      <td>0</td>\n",
       "      <td>0</td>\n",
       "      <td>0</td>\n",
       "      <td>0</td>\n",
       "      <td>0</td>\n",
       "      <td>0</td>\n",
       "      <td>0</td>\n",
       "      <td>0</td>\n",
       "      <td>0</td>\n",
       "      <td>0</td>\n",
       "    </tr>\n",
       "    <tr>\n",
       "      <th>Friends - 1x02 - The One With The Sonogram At The End.ru.txt</th>\n",
       "      <td>0</td>\n",
       "      <td>0</td>\n",
       "      <td>0</td>\n",
       "      <td>0</td>\n",
       "      <td>0</td>\n",
       "      <td>0</td>\n",
       "      <td>0</td>\n",
       "      <td>0</td>\n",
       "      <td>0</td>\n",
       "      <td>0</td>\n",
       "      <td>...</td>\n",
       "      <td>0</td>\n",
       "      <td>0</td>\n",
       "      <td>0</td>\n",
       "      <td>0</td>\n",
       "      <td>0</td>\n",
       "      <td>0</td>\n",
       "      <td>0</td>\n",
       "      <td>0</td>\n",
       "      <td>0</td>\n",
       "      <td>0</td>\n",
       "    </tr>\n",
       "    <tr>\n",
       "      <th>Friends - 1x03 - The One With The Thumb.ru.txt</th>\n",
       "      <td>0</td>\n",
       "      <td>0</td>\n",
       "      <td>0</td>\n",
       "      <td>0</td>\n",
       "      <td>0</td>\n",
       "      <td>0</td>\n",
       "      <td>0</td>\n",
       "      <td>0</td>\n",
       "      <td>0</td>\n",
       "      <td>0</td>\n",
       "      <td>...</td>\n",
       "      <td>0</td>\n",
       "      <td>0</td>\n",
       "      <td>0</td>\n",
       "      <td>0</td>\n",
       "      <td>0</td>\n",
       "      <td>0</td>\n",
       "      <td>0</td>\n",
       "      <td>0</td>\n",
       "      <td>0</td>\n",
       "      <td>0</td>\n",
       "    </tr>\n",
       "    <tr>\n",
       "      <th>Friends - 1x04 - The One With George Stephanopoulos.ru.txt</th>\n",
       "      <td>0</td>\n",
       "      <td>0</td>\n",
       "      <td>0</td>\n",
       "      <td>0</td>\n",
       "      <td>0</td>\n",
       "      <td>0</td>\n",
       "      <td>0</td>\n",
       "      <td>0</td>\n",
       "      <td>0</td>\n",
       "      <td>0</td>\n",
       "      <td>...</td>\n",
       "      <td>0</td>\n",
       "      <td>0</td>\n",
       "      <td>0</td>\n",
       "      <td>0</td>\n",
       "      <td>0</td>\n",
       "      <td>0</td>\n",
       "      <td>0</td>\n",
       "      <td>0</td>\n",
       "      <td>0</td>\n",
       "      <td>0</td>\n",
       "    </tr>\n",
       "    <tr>\n",
       "      <th>Friends - 1x05 - The One With The East German Laundry Detergent.ru.txt</th>\n",
       "      <td>0</td>\n",
       "      <td>0</td>\n",
       "      <td>0</td>\n",
       "      <td>0</td>\n",
       "      <td>0</td>\n",
       "      <td>0</td>\n",
       "      <td>0</td>\n",
       "      <td>0</td>\n",
       "      <td>0</td>\n",
       "      <td>0</td>\n",
       "      <td>...</td>\n",
       "      <td>0</td>\n",
       "      <td>0</td>\n",
       "      <td>0</td>\n",
       "      <td>0</td>\n",
       "      <td>0</td>\n",
       "      <td>0</td>\n",
       "      <td>0</td>\n",
       "      <td>0</td>\n",
       "      <td>0</td>\n",
       "      <td>0</td>\n",
       "    </tr>\n",
       "  </tbody>\n",
       "</table>\n",
       "<p>5 rows × 15412 columns</p>\n",
       "</div>"
      ],
      "text/plain": [
       "                                                    aa  ad  afr  aga  ahh  ar  \\\n",
       "Friends - 1x01 - The One Where Monica Gets A Ro...   0   0    0    0    0   0   \n",
       "Friends - 1x02 - The One With The Sonogram At T...   0   0    0    0    0   0   \n",
       "Friends - 1x03 - The One With The Thumb.ru.txt       0   0    0    0    0   0   \n",
       "Friends - 1x04 - The One With George Stephanopo...   0   0    0    0    0   0   \n",
       "Friends - 1x05 - The One With The East German L...   0   0    0    0    0   0   \n",
       "\n",
       "                                                    ay  aнгел  bay  bhd  ...  \\\n",
       "Friends - 1x01 - The One Where Monica Gets A Ro...   0      0    0    0  ...   \n",
       "Friends - 1x02 - The One With The Sonogram At T...   0      0    0    0  ...   \n",
       "Friends - 1x03 - The One With The Thumb.ru.txt       0      0    0    0  ...   \n",
       "Friends - 1x04 - The One With George Stephanopo...   0      0    0    0  ...   \n",
       "Friends - 1x05 - The One With The East German L...   0      0    0    0  ...   \n",
       "\n",
       "                                                    ящичек  ёй  ёкнуть  ёлка  \\\n",
       "Friends - 1x01 - The One Where Monica Gets A Ro...       0   0       0     0   \n",
       "Friends - 1x02 - The One With The Sonogram At T...       0   0       0     0   \n",
       "Friends - 1x03 - The One With The Thumb.ru.txt           0   0       0     0   \n",
       "Friends - 1x04 - The One With George Stephanopo...       0   0       0     0   \n",
       "Friends - 1x05 - The One With The East German L...       0   0       0     0   \n",
       "\n",
       "                                                    ёлочный  ёпэрэсотэ  ёрл  \\\n",
       "Friends - 1x01 - The One Where Monica Gets A Ro...        0          0    0   \n",
       "Friends - 1x02 - The One With The Sonogram At T...        0          0    0   \n",
       "Friends - 1x03 - The One With The Thumb.ru.txt            0          0    0   \n",
       "Friends - 1x04 - The One With George Stephanopo...        0          0    0   \n",
       "Friends - 1x05 - The One With The East German L...        0          0    0   \n",
       "\n",
       "                                                    ёрш  ёршик  ёще  \n",
       "Friends - 1x01 - The One Where Monica Gets A Ro...    0      0    0  \n",
       "Friends - 1x02 - The One With The Sonogram At T...    0      0    0  \n",
       "Friends - 1x03 - The One With The Thumb.ru.txt        0      0    0  \n",
       "Friends - 1x04 - The One With George Stephanopo...    0      0    0  \n",
       "Friends - 1x05 - The One With The East German L...    0      0    0  \n",
       "\n",
       "[5 rows x 15412 columns]"
      ]
     },
     "execution_count": 30,
     "metadata": {},
     "output_type": "execute_result"
    }
   ],
   "source": [
    "df.head()"
   ]
  },
  {
   "cell_type": "markdown",
   "metadata": {
    "colab_type": "text",
    "id": "6c7b5UjfqAEL"
   },
   "source": [
    "**Поисковик**"
   ]
  },
  {
   "cell_type": "code",
   "execution_count": 31,
   "metadata": {
    "colab": {},
    "colab_type": "code",
    "id": "Rey0S7DcpidY"
   },
   "outputs": [],
   "source": [
    "from collections import Counter\n",
    "import operator\n",
    "import math"
   ]
  },
  {
   "cell_type": "code",
   "execution_count": 32,
   "metadata": {
    "colab": {},
    "colab_type": "code",
    "id": "z4gYENOYqUti"
   },
   "outputs": [],
   "source": [
    "def tokenize(doc):\n",
    "    allWordsInOneText = []\n",
    "    text = doc.split()\n",
    "    for word in text:\n",
    "        word = re.sub('[.,-;:?!@#$%^&()_+=—\\ufeff–\"…«»>wwwtvsubtitlesnet]', '', word).lower()\n",
    "        if word != \"\":\n",
    "            p = morph.parse(word)[0]\n",
    "            allWordsInOneText.append(p.normal_form)\n",
    "    return allWordsInOneText"
   ]
  },
  {
   "cell_type": "code",
   "execution_count": 33,
   "metadata": {
    "colab": {},
    "colab_type": "code",
    "id": "YvSD5uXAr_Dg"
   },
   "outputs": [],
   "source": [
    "def build_terms(corpus):\n",
    "    terms = {}\n",
    "    current_index = 0\n",
    "    for doc in corpus:\n",
    "        for word in tokenize(doc):\n",
    "            if word not in terms:\n",
    "                terms[word] = current_index\n",
    "                current_index += 1\n",
    "    return terms"
   ]
  },
  {
   "cell_type": "code",
   "execution_count": 34,
   "metadata": {
    "colab": {},
    "colab_type": "code",
    "id": "F7iQQizdsKhT"
   },
   "outputs": [],
   "source": [
    "def tf(document, terms):\n",
    "    words = tokenize(document)\n",
    "    total_words = len(words)\n",
    "    doc_counter = Counter(words)\n",
    "    for word in doc_counter:\n",
    "        doc_counter[word] /= total_words\n",
    "    tfs = [0 for _ in range(len(terms))]\n",
    "    for term, index in terms.items():\n",
    "        tfs[index] = doc_counter[term]\n",
    "    return tfs"
   ]
  },
  {
   "cell_type": "code",
   "execution_count": 35,
   "metadata": {
    "colab": {},
    "colab_type": "code",
    "id": "hm8iOk36sXip"
   },
   "outputs": [],
   "source": [
    "def _count_docs_with_word(word, docs):\n",
    "    counter = 1\n",
    "    for doc in docs:\n",
    "        if word in doc:\n",
    "            counter += 1\n",
    "    return counter"
   ]
  },
  {
   "cell_type": "code",
   "execution_count": 36,
   "metadata": {
    "colab": {},
    "colab_type": "code",
    "id": "N4q57mTQsprZ"
   },
   "outputs": [],
   "source": [
    "# documents - это корпус\n",
    "def idf(documents, terms):\n",
    "    idfs = [0 for _ in range(len(terms))]\n",
    "    total_docs = len(documents)\n",
    "    for word, index in terms.items():\n",
    "        docs_with_word = _count_docs_with_word(word, documents)\n",
    "        idf = 1 + math.log10(total_docs / docs_with_word)\n",
    "        idfs[index] = idf\n",
    "    return idfs"
   ]
  },
  {
   "cell_type": "code",
   "execution_count": 37,
   "metadata": {
    "colab": {},
    "colab_type": "code",
    "id": "BVKn0PtXsxtJ"
   },
   "outputs": [],
   "source": [
    "def _merge_td_idf(tf, idf, terms):\n",
    "    return [tf[i] * idf[i] for i in range(len(terms))]\n",
    "\n",
    "\n",
    "def build_tfidf(corpus, document, terms):\n",
    "    doc_tf = tf(document, terms)\n",
    "    doc_idf = idf(corpus, terms)\n",
    "    return _merge_td_idf(doc_tf, doc_idf, terms)\n",
    "\n",
    "\n",
    "def cosine_similarity(vec1, vec2):\n",
    "    def dot_product2(v1, v2):\n",
    "        return sum(map(operator.mul, v1, v2))\n",
    "\n",
    "    def vector_cos5(v1, v2):\n",
    "        prod = dot_product2(v1, v2)\n",
    "        len1 = math.sqrt(dot_product2(v1, v1))\n",
    "        len2 = math.sqrt(dot_product2(v2, v2))\n",
    "        return prod / (len1 * len2)\n",
    "\n",
    "    return vector_cos5(vec1, vec2)"
   ]
  },
  {
   "cell_type": "code",
   "execution_count": 38,
   "metadata": {
    "colab": {},
    "colab_type": "code",
    "id": "LdVBYZDCtL_l"
   },
   "outputs": [],
   "source": [
    "tf_idf_total = []\n",
    "corpus = allTexts\n",
    "terms = build_terms(corpus)"
   ]
  },
  {
   "cell_type": "code",
   "execution_count": 39,
   "metadata": {
    "colab": {
     "base_uri": "https://localhost:8080/",
     "height": 35
    },
    "colab_type": "code",
    "id": "LSGkeFRjQEyQ",
    "outputId": "55c107ab-ade0-4d64-9742-b3311519356e"
   },
   "outputs": [
    {
     "data": {
      "text/plain": [
       "165"
      ]
     },
     "execution_count": 39,
     "metadata": {},
     "output_type": "execute_result"
    }
   ],
   "source": [
    "len(corpus)"
   ]
  },
  {
   "cell_type": "code",
   "execution_count": 40,
   "metadata": {
    "colab": {},
    "colab_type": "code",
    "id": "H4EhlNbnviIo"
   },
   "outputs": [],
   "source": [
    "for document in corpus:\n",
    "    tf_idf_total.append(build_tfidf(corpus, document, terms))"
   ]
  },
  {
   "cell_type": "code",
   "execution_count": 41,
   "metadata": {
    "colab": {},
    "colab_type": "code",
    "id": "8NnwL5Ztv05V"
   },
   "outputs": [],
   "source": [
    "query = \"Он подарил мне цветы\""
   ]
  },
  {
   "cell_type": "code",
   "execution_count": 42,
   "metadata": {
    "colab": {},
    "colab_type": "code",
    "id": "jvV8Z1cQwKic"
   },
   "outputs": [],
   "source": [
    "results = {}\n",
    "query_tfidf = build_tfidf(corpus, query, terms)\n",
    "for index, document in enumerate(tf_idf_total):\n",
    "    results[index] = cosine_similarity(query_tfidf, document)"
   ]
  },
  {
   "cell_type": "code",
   "execution_count": 43,
   "metadata": {
    "colab": {
     "base_uri": "https://localhost:8080/",
     "height": 1000
    },
    "colab_type": "code",
    "id": "47NGONsxNNaW",
    "outputId": "67658190-587a-4d5d-9501-3f73c10f47c2"
   },
   "outputs": [
    {
     "data": {
      "text/plain": [
       "[(52, 0.2752542859743394),\n",
       " (75, 0.24471401179804134),\n",
       " (135, 0.23290323882225525),\n",
       " (51, 0.2329008795436449),\n",
       " (27, 0.22910673441624954),\n",
       " (138, 0.22879058779910527),\n",
       " (47, 0.22125968103179108),\n",
       " (55, 0.2197335939372848),\n",
       " (143, 0.2183933635782559),\n",
       " (2, 0.21734952102205848),\n",
       " (9, 0.2169524068135041),\n",
       " (145, 0.21692765155774396),\n",
       " (158, 0.21689218055271234),\n",
       " (40, 0.21662217414530624),\n",
       " (107, 0.21441365055359127),\n",
       " (98, 0.21388745853319852),\n",
       " (78, 0.2138853573391441),\n",
       " (41, 0.2130222236381641),\n",
       " (59, 0.21277829270285628),\n",
       " (33, 0.2119639089140637),\n",
       " (72, 0.21159810933109935),\n",
       " (90, 0.21144027786533223),\n",
       " (91, 0.2112619947559666),\n",
       " (162, 0.21015920308428201),\n",
       " (77, 0.20964690328532032),\n",
       " (19, 0.20959084004177658),\n",
       " (80, 0.2078521076832388),\n",
       " (136, 0.20774321164955095),\n",
       " (151, 0.20672401103432556),\n",
       " (26, 0.20671838812314927),\n",
       " (82, 0.20593766518551734),\n",
       " (73, 0.20283250185744015),\n",
       " (22, 0.20266241032202806),\n",
       " (30, 0.20254230232391018),\n",
       " (56, 0.20223281636772597),\n",
       " (63, 0.20217078691003598),\n",
       " (108, 0.20214861216925797),\n",
       " (106, 0.20202246465475088),\n",
       " (127, 0.2020080436730996),\n",
       " (16, 0.20151354637419253),\n",
       " (81, 0.20114513249551347),\n",
       " (114, 0.19834524089328787),\n",
       " (71, 0.1982636245711368),\n",
       " (74, 0.19800536826794946),\n",
       " (149, 0.19652432076869852),\n",
       " (0, 0.19645098628929564),\n",
       " (29, 0.19514002838669406),\n",
       " (70, 0.19496645941377766),\n",
       " (142, 0.1949569441442617),\n",
       " (67, 0.19452378606350726),\n",
       " (46, 0.19449024692889805),\n",
       " (99, 0.19437413833801012),\n",
       " (35, 0.19373581941998),\n",
       " (131, 0.19372534230697588),\n",
       " (110, 0.19362694692553203),\n",
       " (64, 0.19358508500649674),\n",
       " (148, 0.19320454294090927),\n",
       " (109, 0.19316198311807808),\n",
       " (130, 0.1930362079435594),\n",
       " (58, 0.19282621766140248),\n",
       " (87, 0.19240105962778395),\n",
       " (31, 0.1922013580411697),\n",
       " (57, 0.19140819410751922),\n",
       " (62, 0.19106878248325324),\n",
       " (97, 0.1889167393122808),\n",
       " (144, 0.18857892206858493),\n",
       " (163, 0.18850600074814464),\n",
       " (157, 0.18817451592262543),\n",
       " (119, 0.18794516632090325),\n",
       " (68, 0.18793687233521136),\n",
       " (139, 0.1875891914498374),\n",
       " (121, 0.1875129368552837),\n",
       " (113, 0.1874971065044187),\n",
       " (11, 0.18746643547177377),\n",
       " (94, 0.18736410352571686),\n",
       " (123, 0.18734656281584272),\n",
       " (140, 0.1872336413804944),\n",
       " (34, 0.1869662128817676),\n",
       " (101, 0.18681598145802267),\n",
       " (115, 0.18668702757859826),\n",
       " (95, 0.18639811881687643),\n",
       " (39, 0.18612945376533463),\n",
       " (128, 0.18568011662830453),\n",
       " (24, 0.1855917235840418),\n",
       " (76, 0.18557778980774092),\n",
       " (7, 0.184791348035693),\n",
       " (83, 0.18468023767934655),\n",
       " (105, 0.18449030005890812),\n",
       " (69, 0.1840898691050053),\n",
       " (10, 0.183591174776932),\n",
       " (44, 0.18358482805780907),\n",
       " (103, 0.1835546874289062),\n",
       " (65, 0.18305696995000742),\n",
       " (38, 0.18282061060733615),\n",
       " (120, 0.18269510070733844),\n",
       " (112, 0.1816350009804349),\n",
       " (164, 0.18142641327540235),\n",
       " (126, 0.18141140481472176),\n",
       " (48, 0.181139772863481),\n",
       " (104, 0.18105767942911813),\n",
       " (66, 0.18100796242229142),\n",
       " (5, 0.1807116904620864),\n",
       " (134, 0.1805805375373751),\n",
       " (86, 0.18045098801880452),\n",
       " (21, 0.18043401516376312),\n",
       " (37, 0.18002490811633576),\n",
       " (129, 0.17997817679209818),\n",
       " (93, 0.17937752888555875),\n",
       " (84, 0.17863680460068626),\n",
       " (100, 0.17757188611031594),\n",
       " (49, 0.177552243669601),\n",
       " (122, 0.17732518123835833),\n",
       " (45, 0.17614407058701675),\n",
       " (89, 0.17589219434491),\n",
       " (111, 0.17503726900628472),\n",
       " (32, 0.1749613011449139),\n",
       " (132, 0.1739216025755183),\n",
       " (92, 0.17379678059036138),\n",
       " (8, 0.17354933463927882),\n",
       " (36, 0.17341529402295913),\n",
       " (54, 0.17334998750615396),\n",
       " (137, 0.17287812488040719),\n",
       " (154, 0.17178702930431508),\n",
       " (61, 0.17084226921599496),\n",
       " (155, 0.17081428390055092),\n",
       " (60, 0.16931747387845103),\n",
       " (150, 0.1690646909251359),\n",
       " (12, 0.168731511850271),\n",
       " (102, 0.16864737284437464),\n",
       " (146, 0.16786393427609925),\n",
       " (20, 0.1674673936586328),\n",
       " (18, 0.16702153533891148),\n",
       " (85, 0.1665490030158418),\n",
       " (124, 0.16606253012875677),\n",
       " (14, 0.16593931710643012),\n",
       " (156, 0.1658894983296207),\n",
       " (117, 0.16510669112317822),\n",
       " (118, 0.16495487081245672),\n",
       " (116, 0.16435410281731666),\n",
       " (133, 0.16430169581625173),\n",
       " (15, 0.1642555431159481),\n",
       " (3, 0.16390530829420946),\n",
       " (25, 0.16373300831015858),\n",
       " (43, 0.16372711206805127),\n",
       " (1, 0.16343180688083034),\n",
       " (141, 0.16276896436400173),\n",
       " (50, 0.1614816866485538),\n",
       " (88, 0.1612552917869104),\n",
       " (4, 0.1586240362351954),\n",
       " (125, 0.1576855579855575),\n",
       " (23, 0.1572668712456085),\n",
       " (53, 0.15221554651267194),\n",
       " (160, 0.1500719329692806),\n",
       " (6, 0.14957558770116242),\n",
       " (159, 0.14934133262893),\n",
       " (13, 0.1479843733147632),\n",
       " (161, 0.14726747895502693),\n",
       " (147, 0.1461302528858065),\n",
       " (42, 0.14477269403892618),\n",
       " (17, 0.14474831895547743),\n",
       " (96, 0.14380213038146095),\n",
       " (153, 0.14089620199556113),\n",
       " (28, 0.1389264351266741),\n",
       " (79, 0.13544418993582963),\n",
       " (152, 0.1318288818497484)]"
      ]
     },
     "execution_count": 43,
     "metadata": {},
     "output_type": "execute_result"
    }
   ],
   "source": [
    "ld = list(results.items())\n",
    "ld.sort(key=lambda i: i[1], reverse= True)\n",
    "ld"
   ]
  },
  {
   "cell_type": "code",
   "execution_count": 44,
   "metadata": {
    "colab": {
     "base_uri": "https://localhost:8080/",
     "height": 35
    },
    "colab_type": "code",
    "id": "nklCWhhRNqD4",
    "outputId": "fb4821c1-b2a3-4dea-806f-df1ddeab8798"
   },
   "outputs": [
    {
     "name": "stdout",
     "output_type": "stream",
     "text": [
      "По вашему запросу лучший результат - Friends - 3x08 - The One With The Giant Poking Device.ru.txt\n"
     ]
    }
   ],
   "source": [
    "print('По вашему запросу лучший результат - ' + allNames[ld[0][0]])"
   ]
  }
 ],
 "metadata": {
  "colab": {
   "collapsed_sections": [],
   "name": "sem1_Index_Kromina.ipynb",
   "provenance": []
  },
  "kernelspec": {
   "display_name": "Python 3",
   "language": "python",
   "name": "python3"
  },
  "language_info": {
   "codemirror_mode": {
    "name": "ipython",
    "version": 3
   },
   "file_extension": ".py",
   "mimetype": "text/x-python",
   "name": "python",
   "nbconvert_exporter": "python",
   "pygments_lexer": "ipython3",
   "version": "3.7.3"
  }
 },
 "nbformat": 4,
 "nbformat_minor": 1
}
