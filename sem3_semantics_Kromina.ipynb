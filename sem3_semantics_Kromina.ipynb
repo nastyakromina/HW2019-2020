{
 "cells": [
  {
   "cell_type": "markdown",
   "metadata": {},
   "source": [
    "## Задание"
   ]
  },
  {
   "cell_type": "markdown",
   "metadata": {},
   "source": [
    "Реализуйте поиск по [Quora question pairs](https://www.kaggle.com/loopdigga/quora-question-pairs-russian) на нескольких векторных моделях\n",
    "\n",
    "    1. fasttext, модель ruscorpora_none_fasttextskipgram_300_2_2019\n",
    "    2. elmo, модель ruwikiruscorpora_lemmas_elmo_1024_2019\n",
    "    3. bert*, RuBERT - необязательно\n",
    "   \n",
    "Первые две обученные модели можно скачать на сайте [rusvectores](https://rusvectores.org/en/models/).\n",
    "\n",
    "BERT делать необязательно, но если сделаете, 6 за курс у вас автоматом. Модель можно [найти тут](http://docs.deeppavlov.ai/en/master/features/models/bert.html)."
   ]
  },
  {
   "cell_type": "code",
   "execution_count": 2,
   "metadata": {},
   "outputs": [
    {
     "name": "stdout",
     "output_type": "stream",
     "text": [
      "Requirement already satisfied: gensim in c:\\users\\home\\anaconda3\\lib\\site-packages (3.8.1)\n",
      "Requirement already satisfied: smart-open>=1.8.1 in c:\\users\\home\\anaconda3\\lib\\site-packages (from gensim) (1.8.4)\n",
      "Requirement already satisfied: six>=1.5.0 in c:\\users\\home\\anaconda3\\lib\\site-packages (from gensim) (1.12.0)\n",
      "Requirement already satisfied: scipy>=0.18.1 in c:\\users\\home\\anaconda3\\lib\\site-packages (from gensim) (1.2.1)\n",
      "Requirement already satisfied: numpy>=1.11.3 in c:\\users\\home\\anaconda3\\lib\\site-packages (from gensim) (1.16.4)\n",
      "Requirement already satisfied: requests in c:\\users\\home\\anaconda3\\lib\\site-packages (from smart-open>=1.8.1->gensim) (2.22.0)\n",
      "Requirement already satisfied: boto3 in c:\\users\\home\\anaconda3\\lib\\site-packages (from smart-open>=1.8.1->gensim) (1.9.243)\n",
      "Requirement already satisfied: boto>=2.32 in c:\\users\\home\\anaconda3\\lib\\site-packages (from smart-open>=1.8.1->gensim) (2.49.0)\n",
      "Requirement already satisfied: chardet<3.1.0,>=3.0.2 in c:\\users\\home\\anaconda3\\lib\\site-packages (from requests->smart-open>=1.8.1->gensim) (3.0.4)\n",
      "Requirement already satisfied: idna<2.9,>=2.5 in c:\\users\\home\\anaconda3\\lib\\site-packages (from requests->smart-open>=1.8.1->gensim) (2.8)\n",
      "Requirement already satisfied: certifi>=2017.4.17 in c:\\users\\home\\anaconda3\\lib\\site-packages (from requests->smart-open>=1.8.1->gensim) (2019.6.16)\n",
      "Requirement already satisfied: urllib3!=1.25.0,!=1.25.1,<1.26,>=1.21.1 in c:\\users\\home\\anaconda3\\lib\\site-packages (from requests->smart-open>=1.8.1->gensim) (1.24.2)\n",
      "Requirement already satisfied: jmespath<1.0.0,>=0.7.1 in c:\\users\\home\\anaconda3\\lib\\site-packages (from boto3->smart-open>=1.8.1->gensim) (0.9.4)\n",
      "Requirement already satisfied: s3transfer<0.3.0,>=0.2.0 in c:\\users\\home\\anaconda3\\lib\\site-packages (from boto3->smart-open>=1.8.1->gensim) (0.2.1)\n",
      "Requirement already satisfied: botocore<1.13.0,>=1.12.243 in c:\\users\\home\\anaconda3\\lib\\site-packages (from boto3->smart-open>=1.8.1->gensim) (1.12.243)\n",
      "Requirement already satisfied: python-dateutil<3.0.0,>=2.1; python_version >= \"2.7\" in c:\\users\\home\\anaconda3\\lib\\site-packages (from botocore<1.13.0,>=1.12.243->boto3->smart-open>=1.8.1->gensim) (2.8.0)\n",
      "Requirement already satisfied: docutils<0.16,>=0.10 in c:\\users\\home\\anaconda3\\lib\\site-packages (from botocore<1.13.0,>=1.12.243->boto3->smart-open>=1.8.1->gensim) (0.14)\n",
      "Note: you may need to restart the kernel to use updated packages.\n"
     ]
    }
   ],
   "source": [
    "pip install gensim"
   ]
  },
  {
   "cell_type": "code",
   "execution_count": 3,
   "metadata": {},
   "outputs": [],
   "source": [
    "%load_ext autoreload\n",
    "\n",
    "from gensim.models import Word2Vec, KeyedVectors\n",
    "from gensim.models import FastText\n",
    "from gensim.test.utils import get_tmpfile"
   ]
  },
  {
   "cell_type": "markdown",
   "metadata": {},
   "source": [
    "## word2vec + fasttext"
   ]
  },
  {
   "cell_type": "markdown",
   "metadata": {},
   "source": [
    "получение вектора документа"
   ]
  },
  {
   "cell_type": "code",
   "execution_count": 4,
   "metadata": {},
   "outputs": [],
   "source": [
    "model_file = 'model.model'"
   ]
  },
  {
   "cell_type": "code",
   "execution_count": 5,
   "metadata": {},
   "outputs": [
    {
     "data": {
      "text/plain": [
       "'model.model'"
      ]
     },
     "execution_count": 5,
     "metadata": {},
     "output_type": "execute_result"
    }
   ],
   "source": [
    "model_file"
   ]
  },
  {
   "cell_type": "code",
   "execution_count": 6,
   "metadata": {},
   "outputs": [],
   "source": [
    "word_vectors = KeyedVectors.load(model_file)"
   ]
  },
  {
   "cell_type": "code",
   "execution_count": 7,
   "metadata": {},
   "outputs": [
    {
     "data": {
      "text/plain": [
       "True"
      ]
     },
     "execution_count": 7,
     "metadata": {},
     "output_type": "execute_result"
    }
   ],
   "source": [
    "'алмаз' in word_vectors.vocab"
   ]
  },
  {
   "cell_type": "code",
   "execution_count": 8,
   "metadata": {},
   "outputs": [
    {
     "data": {
      "text/plain": [
       "(300,)"
      ]
     },
     "execution_count": 8,
     "metadata": {},
     "output_type": "execute_result"
    }
   ],
   "source": [
    "vector = word_vectors['алмаз']  # numpy vector of a word\n",
    "vector.shape"
   ]
  },
  {
   "cell_type": "code",
   "execution_count": 9,
   "metadata": {},
   "outputs": [],
   "source": [
    "import os\n",
    "os.chdir('C:/Users/home/sem3_infosearch')"
   ]
  },
  {
   "cell_type": "code",
   "execution_count": 10,
   "metadata": {},
   "outputs": [],
   "source": [
    "import pandas as pd"
   ]
  },
  {
   "cell_type": "code",
   "execution_count": 11,
   "metadata": {},
   "outputs": [],
   "source": [
    "table = pd.read_csv('quora_question_pairs_rus.csv')"
   ]
  },
  {
   "cell_type": "code",
   "execution_count": 12,
   "metadata": {},
   "outputs": [
    {
     "data": {
      "text/html": [
       "<div>\n",
       "<style scoped>\n",
       "    .dataframe tbody tr th:only-of-type {\n",
       "        vertical-align: middle;\n",
       "    }\n",
       "\n",
       "    .dataframe tbody tr th {\n",
       "        vertical-align: top;\n",
       "    }\n",
       "\n",
       "    .dataframe thead th {\n",
       "        text-align: right;\n",
       "    }\n",
       "</style>\n",
       "<table border=\"1\" class=\"dataframe\">\n",
       "  <thead>\n",
       "    <tr style=\"text-align: right;\">\n",
       "      <th></th>\n",
       "      <th>Unnamed: 0</th>\n",
       "      <th>question1</th>\n",
       "      <th>question2</th>\n",
       "      <th>is_duplicate</th>\n",
       "    </tr>\n",
       "  </thead>\n",
       "  <tbody>\n",
       "    <tr>\n",
       "      <th>0</th>\n",
       "      <td>0</td>\n",
       "      <td>Какова история кохинор кох-и-ноор-бриллиант</td>\n",
       "      <td>что произойдет, если правительство Индии украд...</td>\n",
       "      <td>0</td>\n",
       "    </tr>\n",
       "    <tr>\n",
       "      <th>1</th>\n",
       "      <td>1</td>\n",
       "      <td>как я могу увеличить скорость моего интернет-с...</td>\n",
       "      <td>как повысить скорость интернета путем взлома ч...</td>\n",
       "      <td>0</td>\n",
       "    </tr>\n",
       "    <tr>\n",
       "      <th>2</th>\n",
       "      <td>2</td>\n",
       "      <td>почему я мысленно очень одинок, как я могу это...</td>\n",
       "      <td>найти остаток, когда математика 23 ^ 24 матема...</td>\n",
       "      <td>0</td>\n",
       "    </tr>\n",
       "    <tr>\n",
       "      <th>3</th>\n",
       "      <td>3</td>\n",
       "      <td>которые растворяют в воде быстро сахарную соль...</td>\n",
       "      <td>какая рыба выживет в соленой воде</td>\n",
       "      <td>0</td>\n",
       "    </tr>\n",
       "    <tr>\n",
       "      <th>4</th>\n",
       "      <td>4</td>\n",
       "      <td>астрология: я - луна-колпачок из козерога и кр...</td>\n",
       "      <td>Я тройная луна-козерог и восхождение в козерог...</td>\n",
       "      <td>1</td>\n",
       "    </tr>\n",
       "  </tbody>\n",
       "</table>\n",
       "</div>"
      ],
      "text/plain": [
       "   Unnamed: 0                                          question1  \\\n",
       "0           0        Какова история кохинор кох-и-ноор-бриллиант   \n",
       "1           1  как я могу увеличить скорость моего интернет-с...   \n",
       "2           2  почему я мысленно очень одинок, как я могу это...   \n",
       "3           3  которые растворяют в воде быстро сахарную соль...   \n",
       "4           4  астрология: я - луна-колпачок из козерога и кр...   \n",
       "\n",
       "                                           question2  is_duplicate  \n",
       "0  что произойдет, если правительство Индии украд...             0  \n",
       "1  как повысить скорость интернета путем взлома ч...             0  \n",
       "2  найти остаток, когда математика 23 ^ 24 матема...             0  \n",
       "3                  какая рыба выживет в соленой воде             0  \n",
       "4  Я тройная луна-козерог и восхождение в козерог...             1  "
      ]
     },
     "execution_count": 12,
     "metadata": {},
     "output_type": "execute_result"
    }
   ],
   "source": [
    "table.head()"
   ]
  },
  {
   "cell_type": "code",
   "execution_count": 13,
   "metadata": {},
   "outputs": [
    {
     "name": "stdout",
     "output_type": "stream",
     "text": [
      "Requirement already satisfied: pymorphy2 in c:\\users\\home\\anaconda3\\lib\\site-packages (0.8)\n",
      "Requirement already satisfied: pymorphy2-dicts<3.0,>=2.4 in c:\\users\\home\\anaconda3\\lib\\site-packages (from pymorphy2) (2.4.393442.3710985)\n",
      "Requirement already satisfied: dawg-python>=0.7 in c:\\users\\home\\anaconda3\\lib\\site-packages (from pymorphy2) (0.7.2)\n",
      "Requirement already satisfied: docopt>=0.6 in c:\\users\\home\\anaconda3\\lib\\site-packages (from pymorphy2) (0.6.2)\n",
      "Note: you may need to restart the kernel to use updated packages.\n"
     ]
    }
   ],
   "source": [
    "pip install pymorphy2"
   ]
  },
  {
   "cell_type": "code",
   "execution_count": 14,
   "metadata": {},
   "outputs": [],
   "source": [
    "import pymorphy2\n",
    "morph = pymorphy2.MorphAnalyzer()"
   ]
  },
  {
   "cell_type": "code",
   "execution_count": 15,
   "metadata": {},
   "outputs": [],
   "source": [
    "texts = []\n",
    "for row in table['question2']:\n",
    "    texts.append(str(row))"
   ]
  },
  {
   "cell_type": "code",
   "execution_count": 16,
   "metadata": {},
   "outputs": [
    {
     "name": "stderr",
     "output_type": "stream",
     "text": [
      "[nltk_data] Downloading package stopwords to\n",
      "[nltk_data]     C:\\Users\\home\\AppData\\Roaming\\nltk_data...\n",
      "[nltk_data]   Package stopwords is already up-to-date!\n"
     ]
    }
   ],
   "source": [
    "import re\n",
    "import nltk\n",
    "nltk.download('stopwords')\n",
    "stemmer = nltk.stem.PorterStemmer()\n",
    "stopwords = set(nltk.corpus.stopwords.words('russian'))"
   ]
  },
  {
   "cell_type": "code",
   "execution_count": 18,
   "metadata": {},
   "outputs": [],
   "source": [
    "#tokenize documents\n",
    "# сделали препроцессинг, получили леммы \n",
    "allWordsAllTexts = []\n",
    "for text in texts[0:10000]:\n",
    "    allWordsInOneText = []\n",
    "    if text != \"\":\n",
    "        for word in text.split():\n",
    "            if word not in stopwords:\n",
    "                word = re.sub('[.,-;:?!@#$%^&()_+=—\\ufeff–\"…«»>]', '', word).lower()\n",
    "                if word != \"\":\n",
    "                    p = morph.parse(word)[0]\n",
    "                    if p not in allWordsInOneText:\n",
    "                        allWordsInOneText.append(p.normal_form)\n",
    "        allWordsAllTexts.append(allWordsInOneText)"
   ]
  },
  {
   "cell_type": "code",
   "execution_count": 19,
   "metadata": {},
   "outputs": [
    {
     "data": {
      "text/plain": [
       "[['произойти',\n",
       "  'правительство',\n",
       "  'индия',\n",
       "  'украсть',\n",
       "  'кохинор',\n",
       "  'кохинооралмаз',\n",
       "  'назад'],\n",
       " ['повысить', 'скорость', 'интернет', 'путём', 'взлом', 'dns']]"
      ]
     },
     "execution_count": 19,
     "metadata": {},
     "output_type": "execute_result"
    }
   ],
   "source": [
    "allWordsAllTexts[:2]"
   ]
  },
  {
   "cell_type": "code",
   "execution_count": 20,
   "metadata": {},
   "outputs": [],
   "source": [
    "import numpy as np"
   ]
  },
  {
   "cell_type": "code",
   "execution_count": 21,
   "metadata": {},
   "outputs": [],
   "source": [
    "vectors = []\n",
    "for s in allWordsAllTexts:\n",
    "    # создаем маски для векторов \n",
    "    lemmas_vectors = np.zeros((len(s), word_vectors.vector_size))\n",
    "    vec = np.zeros((word_vectors.vector_size,))\n",
    "    # если слово есть в модели, берем его вектор\n",
    "    for idx, lemma in enumerate(s):\n",
    "        if lemma in word_vectors.vocab:\n",
    "            lemmas_vectors[idx] = word_vectors[lemma]\n",
    "            if lemmas_vectors.shape[0] is not 0:\n",
    "                vec1 = np.mean(lemmas_vectors, axis=0)\n",
    "    vectors.append(vec1)"
   ]
  },
  {
   "cell_type": "code",
   "execution_count": 22,
   "metadata": {},
   "outputs": [],
   "source": [
    "inputs = []\n",
    "for row in table['question1']:\n",
    "    inputs.append(str(row))"
   ]
  },
  {
   "cell_type": "code",
   "execution_count": 23,
   "metadata": {},
   "outputs": [],
   "source": [
    "#tokenize inputs\n",
    "# сделали препроцессинг, получили леммы \n",
    "allWordsAllInputs = []\n",
    "for text in inputs[0:10]:\n",
    "    allWordsInOneInput = []\n",
    "    if text != \"\":\n",
    "        for word in text.split():\n",
    "            if word not in stopwords:\n",
    "                word = re.sub('[.,-;:?!@#$%^&()_+=—\\ufeff–\"…«»>]', '', word).lower()\n",
    "                if word != \"\":\n",
    "                    p = morph.parse(word)[0]\n",
    "                    if p not in allWordsInOneInput:\n",
    "                        allWordsInOneInput.append(p.normal_form)\n",
    "        allWordsAllInputs.append(allWordsInOneInput)"
   ]
  },
  {
   "cell_type": "code",
   "execution_count": 24,
   "metadata": {},
   "outputs": [],
   "source": [
    "vectors_inputs = []\n",
    "for s in allWordsAllInputs:\n",
    "    # создаем маски для векторов \n",
    "    lemmas_vectors_inputs = np.zeros((len(s), word_vectors.vector_size))\n",
    "    # если слово есть в модели, берем его вектор\n",
    "    for idx, lemma in enumerate(s):\n",
    "        if lemma in word_vectors.vocab:\n",
    "            lemmas_vectors_inputs[idx] = word_vectors[lemma]\n",
    "            if lemmas_vectors_inputs.shape[0] is not 0:\n",
    "                vec = np.mean(lemmas_vectors_inputs, axis=0)\n",
    "    vectors_inputs.append(vec)"
   ]
  },
  {
   "cell_type": "code",
   "execution_count": 25,
   "metadata": {},
   "outputs": [],
   "source": [
    "import sklearn\n",
    "from sklearn.metrics.pairwise import cosine_similarity"
   ]
  },
  {
   "cell_type": "markdown",
   "metadata": {},
   "source": [
    "### __Задача 1__:    \n",
    "Сравните время индексации корпуса для каждой модели "
   ]
  },
  {
   "cell_type": "code",
   "execution_count": 27,
   "metadata": {},
   "outputs": [
    {
     "name": "stdout",
     "output_type": "stream",
     "text": [
      "--- 67.29096245765686 seconds ---\n"
     ]
    }
   ],
   "source": [
    "#создаём словарь: \"индекс запроса:индекс наиболее релевантного текста\"\n",
    "#время индексациии для модели fasttext на 9 запросах и 10000 документах\n",
    "import time\n",
    "start_time = time.time()\n",
    "bests = {}\n",
    "for idx, i in enumerate(vectors_inputs):\n",
    "    m = []\n",
    "    mean_input = i.reshape(1, -1)\n",
    "    for idx1, j in enumerate(vectors):\n",
    "        mean_text = j.reshape(1, -1)\n",
    "        sk = cosine_similarity(mean_input, mean_text, dense_output=True)\n",
    "        m.append(sk[0][0])\n",
    "    best_result = m.index(max(m))\n",
    "    bests[idx] = best_result\n",
    "print(\"--- %s seconds ---\" % (time.time() - start_time))"
   ]
  },
  {
   "cell_type": "code",
   "execution_count": 28,
   "metadata": {},
   "outputs": [
    {
     "name": "stdout",
     "output_type": "stream",
     "text": [
      "{0: 8236, 1: 3418, 2: 3961, 3: 6108, 4: 4, 5: 9199, 6: 6, 7: 7, 8: 1742, 9: 2940}\n"
     ]
    }
   ],
   "source": [
    "print(bests)"
   ]
  },
  {
   "cell_type": "code",
   "execution_count": 37,
   "metadata": {},
   "outputs": [
    {
     "name": "stdout",
     "output_type": "stream",
     "text": [
      "'как я могу увеличить скорость моего интернет-соединения, используя vpn' - 'как я могу увеличить свой вес'\n"
     ]
    }
   ],
   "source": [
    "#пример того, как работает поисковик\n",
    "print(\"'\" + table['question1'][1] + \"'\" + ' - ' + \"'\" + table['question2'][3418] + \"'\")"
   ]
  },
  {
   "cell_type": "code",
   "execution_count": 36,
   "metadata": {},
   "outputs": [
    {
     "name": "stdout",
     "output_type": "stream",
     "text": [
      "'почему я мысленно очень одинок, как я могу это решить' - 'у меня есть этот страх во мне, что заставляет меня ненавидеть разговаривать с людьми, особенно с девушками, которых я боюсь, когда я не могу придумать ничего, чтобы сказать, и это превращается в неловкий момент, к которому разговор впоследствии становится скучным, я не хочу быть скучный человек, как я могу исправить это'\n"
     ]
    }
   ],
   "source": [
    "print(\"'\" + table['question1'][2] + \"'\" + ' - ' + \"'\" + table['question2'][3961] + \"'\")"
   ]
  },
  {
   "cell_type": "markdown",
   "metadata": {},
   "source": [
    "### __Задача 2__:    \n",
    "Выведите качество поиска для каждой модели +  BM25 для сравнения\n",
    "\n",
    "Качество оцениваем так же, как в прошлом задании:\n",
    "    - если в топ-5 результатов выдачи попал хоть один релевантный документ, выдача точная\n",
    "    - если в топ-5 нет ни одного релеватного документа, выдача получает 0\n",
    "   "
   ]
  },
  {
   "cell_type": "code",
   "execution_count": null,
   "metadata": {},
   "outputs": [],
   "source": []
  }
 ],
 "metadata": {
  "kernelspec": {
   "display_name": "Python 3",
   "language": "python",
   "name": "python3"
  },
  "language_info": {
   "codemirror_mode": {
    "name": "ipython",
    "version": 3
   },
   "file_extension": ".py",
   "mimetype": "text/x-python",
   "name": "python",
   "nbconvert_exporter": "python",
   "pygments_lexer": "ipython3",
   "version": "3.7.3"
  }
 },
 "nbformat": 4,
 "nbformat_minor": 2
}
